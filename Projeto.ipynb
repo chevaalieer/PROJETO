{
  "cells": [
    {
      "cell_type": "markdown",
      "metadata": {
        "id": "u9te9aIeLvGq"
      },
      "source": [
        "**Bibliotecas**\n",
        "\n",
        "**Pandas**\n",
        "\n",
        "Pandas é uma biblioteca Python de alto nível para análise de dados. A razão de eu chamá-lo de alto nível é porque ele é construído em cima da biblioteca NumPy de nível inferior (escrita em C), que é um grande aumento de desempenho. No ecossistema Python , o pandas é a biblioteca de ciência de dados mais avançada e de crescimento mais rápido. No meu trabalho, tenho que usá-lo quase todos os dias, por isso estou escrevendo esta pequena nota para me referir a ele no futuro, se de repente me esquecer de algo. Espero também que este post ajude os leitores do blog a resolver seus próprios problemas com pandas, e sirva como uma pequena introdução às possibilidades desta biblioteca.\n",
        "\n",
        "**Matploitlib**\n",
        "\n",
        "O Python Matplotlib é uma alternativa ao módulo de visualização do programa para cálculos técnicos no MatLab. O Matplotlib possui uma interface orientada a objetos, o que significa que o usuário interage diretamente com cada objeto. Usando o código, você pode definir qualquer elemento do gráfico, incluindo rótulos e marcas nos eixos.\n",
        "\n",
        "**Collections counter**\n",
        "\n",
        "Existe uma classe Counter na biblioteca padrão. É ótimo para contar o número de objetos de diferentes tipos . Mas e se houver bilhões de objetos e o contador simplesmente não couber na RAM?\n",
        "\n",
        "O marcador ajudará - este é um contador que fornece uma interface semelhante, mas dentro dele é construído em estruturas de dados probabilísticas. Devido a isso, leva de 30 a 250 vezes menos memória, mas pode (um pouco) mentir.\n",
        "\n",
        "**NumPy**\n",
        "Focada em trabalhar com arrays e matrizes multidimensionais, além de fornecer uma grande coleção de funções com a implementação de diversos algoritmos relacionados ao uso de matrizes. NumPy é uma das bibliotecas mais populares usadas para computação científica. O código do projeto é escrito em Python com otimizações em C e distribuído sob a licença BSD"
      ]
    },
    {
      "cell_type": "markdown",
      "metadata": {
        "id": "toSkop3yLvGw"
      },
      "source": [
        "<h2>Coleta de Dados</h2>\n",
        "\n",
        "Primeiramente vou começar importando as bibliotecas e os arquivos que serão utilizados!"
      ]
    },
    {
      "cell_type": "code",
      "execution_count": 2,
      "metadata": {
        "id": "ssOhmHoSLvGy"
      },
      "outputs": [],
      "source": [
        "# Importando as biblotecas\n",
        "\n",
        "import pandas as pd\n",
        "import warnings\n",
        "warnings.filterwarnings(\"ignore\", category=FutureWarning)"
      ]
    },
    {
      "cell_type": "code",
      "execution_count": null,
      "metadata": {
        "id": "ndYbUz4dLvG0"
      },
      "outputs": [],
      "source": [
        "# Importando os três arquivos utilizando a função read_csv do tipo (parsing) para conversão dos arquivos em Dataframes\n",
        "\n",
        "aeronaves = pd.read_csv('./Projeto/Dados_acidentes/aeronave.csv', sep=';', encoding='utf8')\n",
        "\n",
        "ocorrencias = pd.read_csv('./Projeto/Dados_acidentes/ocorrencia.csv', sep=';', encoding='utf8')\n",
        "\n",
        "fatores = pd.read_csv('./Projeto/Dados_acidentes/fator_contribuinte.csv', sep=';', encoding='utf8')"
      ]
    },
    {
      "cell_type": "markdown",
      "metadata": {
        "id": "H1WRNIrvLvG2"
      },
      "source": [
        "Arquivos e blibliotecas importados com sucesso!\n",
        "\n",
        "Agora chegou a hora de fazer a leitura de cada um deles."
      ]
    },
    {
      "cell_type": "markdown",
      "source": [
        ""
      ],
      "metadata": {
        "id": "CglGNi63LvG4"
      }
    },
    {
      "cell_type": "code",
      "source": [
        "# Extraindo as colunas do Dataset aeronaves\n",
        "\n",
        "aeronaves.columns"
      ],
      "metadata": {
        "colab": {
          "base_uri": "https://localhost:8080/",
          "height": 200
        },
        "id": "4c5fMzlPMoie",
        "outputId": "38084a59-e021-464c-8776-076c02ed06b0"
      },
      "execution_count": 5,
      "outputs": [
        {
          "output_type": "error",
          "ename": "NameError",
          "evalue": "ignored",
          "traceback": [
            "\u001b[0;31m---------------------------------------------------------------------------\u001b[0m",
            "\u001b[0;31mNameError\u001b[0m                                 Traceback (most recent call last)",
            "\u001b[0;32m<ipython-input-5-1c5c529d39b8>\u001b[0m in \u001b[0;36m<module>\u001b[0;34m()\u001b[0m\n\u001b[1;32m      1\u001b[0m \u001b[0;31m# Extraindo as colunas do Dataset aeronaves\u001b[0m\u001b[0;34m\u001b[0m\u001b[0;34m\u001b[0m\u001b[0;34m\u001b[0m\u001b[0m\n\u001b[1;32m      2\u001b[0m \u001b[0;34m\u001b[0m\u001b[0m\n\u001b[0;32m----> 3\u001b[0;31m \u001b[0maeronaves\u001b[0m\u001b[0;34m.\u001b[0m\u001b[0mcolumns\u001b[0m\u001b[0;34m\u001b[0m\u001b[0;34m\u001b[0m\u001b[0m\n\u001b[0m",
            "\u001b[0;31mNameError\u001b[0m: name 'aeronaves' is not defined"
          ]
        }
      ]
    },
    {
      "cell_type": "code",
      "source": [
        " Verificando a quantidade de linhas e colunas de cada Dataset\n",
        "\n",
        "print(aeronaves.shape)\n",
        "print(ocorrencias.shape)\n",
        "print(fatores.shape)"
      ],
      "metadata": {
        "colab": {
          "base_uri": "https://localhost:8080/",
          "height": 130
        },
        "id": "Zg7fFhu4MfKS",
        "outputId": "f2f144ca-5199-470a-9589-5dc901b1607e"
      },
      "execution_count": 4,
      "outputs": [
        {
          "output_type": "error",
          "ename": "SyntaxError",
          "evalue": "ignored",
          "traceback": [
            "\u001b[0;36m  File \u001b[0;32m\"<ipython-input-4-79c7d1a6e163>\"\u001b[0;36m, line \u001b[0;32m1\u001b[0m\n\u001b[0;31m    Verificando a quantidade de linhas e colunas de cada Dataset\u001b[0m\n\u001b[0m                ^\u001b[0m\n\u001b[0;31mSyntaxError\u001b[0m\u001b[0;31m:\u001b[0m invalid syntax\n"
          ]
        }
      ]
    },
    {
      "cell_type": "code",
      "execution_count": null,
      "metadata": {
        "id": "VOAiqjSzLvG9",
        "outputId": "614fc05f-7c81-4dda-8742-d53635fb5d19"
      },
      "outputs": [
        {
          "data": {
            "text/plain": [
              "Index(['codigo_ocorrencia', 'codigo_ocorrencia1', 'codigo_ocorrencia2',\n",
              "       'codigo_ocorrencia3', 'codigo_ocorrencia4', 'ocorrencia_classificacao',\n",
              "       'ocorrencia_latitude', 'ocorrencia_longitude', 'ocorrencia_cidade',\n",
              "       'ocorrencia_uf', 'ocorrencia_pais', 'ocorrencia_aerodromo',\n",
              "       'ocorrencia_dia', 'ocorrencia_hora', 'investigacao_aeronave_liberada',\n",
              "       'investigacao_status', 'divulgacao_relatorio_numero',\n",
              "       'divulgacao_relatorio_publicado', 'divulgacao_dia_publicacao',\n",
              "       'total_recomendacoes', 'total_aeronaves_envolvidas',\n",
              "       'ocorrencia_saida_pista'],\n",
              "      dtype='object')"
            ]
          },
          "execution_count": 5,
          "metadata": {},
          "output_type": "execute_result"
        }
      ],
      "source": [
        "# Extraindo as colunas do Dataset ocorrencias\n",
        "\n",
        "ocorrencias.columns"
      ]
    },
    {
      "cell_type": "code",
      "execution_count": null,
      "metadata": {
        "id": "oD2RSxDLLvG-"
      },
      "outputs": [],
      "source": [
        "# Extraindo as colunas do Dataset fatores\n",
        "\n",
        "fatores.columns"
      ]
    },
    {
      "cell_type": "code",
      "execution_count": null,
      "metadata": {
        "id": "09bKuIebLvHA"
      },
      "outputs": [],
      "source": [
        ""
      ]
    },
    {
      "cell_type": "markdown",
      "metadata": {
        "id": "ffpqjTXMLvHA"
      },
      "source": [
        "<h2>Processamento dos Dados</h2>"
      ]
    },
    {
      "cell_type": "markdown",
      "metadata": {
        "id": "p6cDzlSLLvHB"
      },
      "source": [
        "Eliminando algumas colunas que são consideradas irrelevantes para o estudo."
      ]
    },
    {
      "cell_type": "code",
      "execution_count": null,
      "metadata": {
        "id": "p5CyZ6LdLvHC"
      },
      "outputs": [],
      "source": [
        "# Eliminando as colunas\n",
        "\n",
        "aeronaves.drop(['aeronave_tipo_icao', 'aeronave_pmd' ,'aeronave_pmd_categoria', 'aeronave_pais_fabricante',\n",
        "               'aeronave_pais_registro','aeronave_registro_categoria','aeronave_registro_segmento',\n",
        "               'aeronave_tipo_operacao', 'aeronave_voo_origem', 'aeronave_voo_destino'], axis = 1, inplace = True)\n",
        "\n",
        "ocorrencias.drop([\"codigo_ocorrencia1\", \"codigo_ocorrencia2\", \"codigo_ocorrencia3\", \"codigo_ocorrencia4\", 'ocorrencia_latitude',\n",
        "                  'ocorrencia_longitude', \"ocorrencia_pais\", \"ocorrencia_aerodromo\",\"investigacao_aeronave_liberada\", \"investigacao_status\", \n",
        "                  \"divulgacao_relatorio_numero\", \"divulgacao_relatorio_publicado\",\"divulgacao_dia_publicacao\"], axis = 1, inplace = True)"
      ]
    },
    {
      "cell_type": "markdown",
      "metadata": {
        "id": "PxxMiwFtLvHD"
      },
      "source": [
        "Renomeando as colunas restantes"
      ]
    },
    {
      "cell_type": "code",
      "execution_count": null,
      "metadata": {
        "id": "SSCE6n8wLvHD"
      },
      "outputs": [],
      "source": [
        "# Renomeando as colunas restantes\n",
        "\n",
        "aeronaves.columns = ['Ocorrencia','Matricula','Categoria','Aeronave','Fabricante','Modelo','Motor','Qnt_Motores',\n",
        "                    'Assentos','Ano_Fabricacao','Fase_Operacao','Dano','Fatalidades']\n",
        "\n",
        "ocorrencias.columns = ['Ocorrencia','Classificacao_ocorrencias', 'Cidade', 'UF', 'Dia', 'Hora',\n",
        "                      'Total_Recomendacoes', 'Aeronaves_Envolvidas', 'Saida_Pista']\n",
        "\n",
        "fatores.columns = ['Ocorrencia', 'Fator_Nome', 'Fator_Aspecto', 'Fator_Condicionante', 'Fator_Area']"
      ]
    },
    {
      "cell_type": "code",
      "execution_count": null,
      "metadata": {
        "id": "uwWLe5F8LvHE"
      },
      "outputs": [],
      "source": [
        ""
      ]
    },
    {
      "cell_type": "markdown",
      "metadata": {
        "id": "_pZHy2lbLvHF"
      },
      "source": [
        "Dando uma olhada no resultado!"
      ]
    },
    {
      "cell_type": "code",
      "execution_count": null,
      "metadata": {
        "id": "8MdtlD3lLvHF",
        "outputId": "ff745917-df45-4f36-dabb-6bac2c81fe74"
      },
      "outputs": [
        {
          "data": {
            "text/html": [
              "<div>\n",
              "<style scoped>\n",
              "    .dataframe tbody tr th:only-of-type {\n",
              "        vertical-align: middle;\n",
              "    }\n",
              "\n",
              "    .dataframe tbody tr th {\n",
              "        vertical-align: top;\n",
              "    }\n",
              "\n",
              "    .dataframe thead th {\n",
              "        text-align: right;\n",
              "    }\n",
              "</style>\n",
              "<table border=\"1\" class=\"dataframe\">\n",
              "  <thead>\n",
              "    <tr style=\"text-align: right;\">\n",
              "      <th></th>\n",
              "      <th>Ocorrencia</th>\n",
              "      <th>Matricula</th>\n",
              "      <th>Categoria</th>\n",
              "      <th>Aeronave</th>\n",
              "      <th>Fabricante</th>\n",
              "      <th>Modelo</th>\n",
              "      <th>Motor</th>\n",
              "      <th>Qnt_Motores</th>\n",
              "      <th>Assentos</th>\n",
              "      <th>Ano_Fabricacao</th>\n",
              "      <th>Fase_Operacao</th>\n",
              "      <th>Dano</th>\n",
              "      <th>Fatalidades</th>\n",
              "    </tr>\n",
              "  </thead>\n",
              "  <tbody>\n",
              "    <tr>\n",
              "      <th>0</th>\n",
              "      <td>39115</td>\n",
              "      <td>PTNQX</td>\n",
              "      <td>PARTICULAR</td>\n",
              "      <td>AVIÃO</td>\n",
              "      <td>NEIVA INDUSTRIA AERONAUTICA</td>\n",
              "      <td>EMB-711A</td>\n",
              "      <td>PISTÃO</td>\n",
              "      <td>MONOMOTOR</td>\n",
              "      <td>4.0</td>\n",
              "      <td>1979.0</td>\n",
              "      <td>DECOLAGEM</td>\n",
              "      <td>SUBSTANCIAL</td>\n",
              "      <td>0</td>\n",
              "    </tr>\n",
              "    <tr>\n",
              "      <th>1</th>\n",
              "      <td>39155</td>\n",
              "      <td>PTLVI</td>\n",
              "      <td>PARTICULAR</td>\n",
              "      <td>AVIÃO</td>\n",
              "      <td>BEECH AIRCRAFT</td>\n",
              "      <td>C90</td>\n",
              "      <td>TURBOÉLICE</td>\n",
              "      <td>BIMOTOR</td>\n",
              "      <td>8.0</td>\n",
              "      <td>1979.0</td>\n",
              "      <td>DECOLAGEM</td>\n",
              "      <td>NENHUM</td>\n",
              "      <td>0</td>\n",
              "    </tr>\n",
              "    <tr>\n",
              "      <th>2</th>\n",
              "      <td>39156</td>\n",
              "      <td>PPPTO</td>\n",
              "      <td>REGULAR</td>\n",
              "      <td>AVIÃO</td>\n",
              "      <td>AEROSPATIALE AND ALENIA</td>\n",
              "      <td>ATR-72-212A</td>\n",
              "      <td>TURBOÉLICE</td>\n",
              "      <td>BIMOTOR</td>\n",
              "      <td>73.0</td>\n",
              "      <td>2008.0</td>\n",
              "      <td>ARREMETIDA NO AR</td>\n",
              "      <td>LEVE</td>\n",
              "      <td>0</td>\n",
              "    </tr>\n",
              "    <tr>\n",
              "      <th>3</th>\n",
              "      <td>39158</td>\n",
              "      <td>PRLGJ</td>\n",
              "      <td>REGULAR</td>\n",
              "      <td>AVIÃO</td>\n",
              "      <td>BOEING COMPANY</td>\n",
              "      <td>757-225</td>\n",
              "      <td>JATO</td>\n",
              "      <td>BIMOTOR</td>\n",
              "      <td>5.0</td>\n",
              "      <td>1984.0</td>\n",
              "      <td>SUBIDA</td>\n",
              "      <td>NENHUM</td>\n",
              "      <td>0</td>\n",
              "    </tr>\n",
              "    <tr>\n",
              "      <th>4</th>\n",
              "      <td>39176</td>\n",
              "      <td>PRMAA</td>\n",
              "      <td>REGULAR</td>\n",
              "      <td>AVIÃO</td>\n",
              "      <td>AIRBUS INDUSTRIE</td>\n",
              "      <td>A320-232</td>\n",
              "      <td>JATO</td>\n",
              "      <td>BIMOTOR</td>\n",
              "      <td>184.0</td>\n",
              "      <td>2001.0</td>\n",
              "      <td>SUBIDA</td>\n",
              "      <td>NENHUM</td>\n",
              "      <td>0</td>\n",
              "    </tr>\n",
              "  </tbody>\n",
              "</table>\n",
              "</div>"
            ],
            "text/plain": [
              "   Ocorrencia Matricula   Categoria Aeronave                   Fabricante  \\\n",
              "0       39115     PTNQX  PARTICULAR    AVIÃO  NEIVA INDUSTRIA AERONAUTICA   \n",
              "1       39155     PTLVI  PARTICULAR    AVIÃO               BEECH AIRCRAFT   \n",
              "2       39156     PPPTO     REGULAR    AVIÃO      AEROSPATIALE AND ALENIA   \n",
              "3       39158     PRLGJ     REGULAR    AVIÃO               BOEING COMPANY   \n",
              "4       39176     PRMAA     REGULAR    AVIÃO             AIRBUS INDUSTRIE   \n",
              "\n",
              "        Modelo       Motor Qnt_Motores  Assentos  Ano_Fabricacao  \\\n",
              "0     EMB-711A      PISTÃO   MONOMOTOR       4.0          1979.0   \n",
              "1          C90  TURBOÉLICE     BIMOTOR       8.0          1979.0   \n",
              "2  ATR-72-212A  TURBOÉLICE     BIMOTOR      73.0          2008.0   \n",
              "3      757-225        JATO     BIMOTOR       5.0          1984.0   \n",
              "4     A320-232        JATO     BIMOTOR     184.0          2001.0   \n",
              "\n",
              "      Fase_Operacao         Dano  Fatalidades  \n",
              "0         DECOLAGEM  SUBSTANCIAL            0  \n",
              "1         DECOLAGEM       NENHUM            0  \n",
              "2  ARREMETIDA NO AR         LEVE            0  \n",
              "3            SUBIDA       NENHUM            0  \n",
              "4            SUBIDA       NENHUM            0  "
            ]
          },
          "execution_count": 9,
          "metadata": {},
          "output_type": "execute_result"
        }
      ],
      "source": [
        "# Imprimindo as primeiras linhas do Dataset aeronave\n",
        "\n",
        "aeronaves.head()"
      ]
    },
    {
      "cell_type": "code",
      "execution_count": null,
      "metadata": {
        "id": "w7EN33dRLvHG",
        "outputId": "9bd144d3-1e33-4ba3-f07b-1c8ccf9f28ea"
      },
      "outputs": [
        {
          "data": {
            "text/html": [
              "<div>\n",
              "<style scoped>\n",
              "    .dataframe tbody tr th:only-of-type {\n",
              "        vertical-align: middle;\n",
              "    }\n",
              "\n",
              "    .dataframe tbody tr th {\n",
              "        vertical-align: top;\n",
              "    }\n",
              "\n",
              "    .dataframe thead th {\n",
              "        text-align: right;\n",
              "    }\n",
              "</style>\n",
              "<table border=\"1\" class=\"dataframe\">\n",
              "  <thead>\n",
              "    <tr style=\"text-align: right;\">\n",
              "      <th></th>\n",
              "      <th>Ocorrencia</th>\n",
              "      <th>Classificacao_ocorrencias</th>\n",
              "      <th>Cidade</th>\n",
              "      <th>UF</th>\n",
              "      <th>Dia</th>\n",
              "      <th>Hora</th>\n",
              "      <th>Total_Recomendacoes</th>\n",
              "      <th>Aeronaves_Envolvidas</th>\n",
              "      <th>Saida_Pista</th>\n",
              "    </tr>\n",
              "  </thead>\n",
              "  <tbody>\n",
              "    <tr>\n",
              "      <th>0</th>\n",
              "      <td>39115</td>\n",
              "      <td>ACIDENTE</td>\n",
              "      <td>CORRENTINA</td>\n",
              "      <td>BA</td>\n",
              "      <td>07/02/2010</td>\n",
              "      <td>17:40:00</td>\n",
              "      <td>2</td>\n",
              "      <td>1</td>\n",
              "      <td>NÃO</td>\n",
              "    </tr>\n",
              "    <tr>\n",
              "      <th>1</th>\n",
              "      <td>39155</td>\n",
              "      <td>INCIDENTE</td>\n",
              "      <td>BELO HORIZONTE</td>\n",
              "      <td>MG</td>\n",
              "      <td>05/02/2010</td>\n",
              "      <td>12:55:00</td>\n",
              "      <td>0</td>\n",
              "      <td>1</td>\n",
              "      <td>NÃO</td>\n",
              "    </tr>\n",
              "    <tr>\n",
              "      <th>2</th>\n",
              "      <td>39156</td>\n",
              "      <td>INCIDENTE GRAVE</td>\n",
              "      <td>CASCAVEL</td>\n",
              "      <td>PR</td>\n",
              "      <td>10/01/2010</td>\n",
              "      <td>23:15:00</td>\n",
              "      <td>2</td>\n",
              "      <td>1</td>\n",
              "      <td>NÃO</td>\n",
              "    </tr>\n",
              "    <tr>\n",
              "      <th>3</th>\n",
              "      <td>39158</td>\n",
              "      <td>INCIDENTE</td>\n",
              "      <td>BELÉM</td>\n",
              "      <td>PA</td>\n",
              "      <td>28/01/2010</td>\n",
              "      <td>16:00:00</td>\n",
              "      <td>0</td>\n",
              "      <td>1</td>\n",
              "      <td>NÃO</td>\n",
              "    </tr>\n",
              "    <tr>\n",
              "      <th>4</th>\n",
              "      <td>39176</td>\n",
              "      <td>INCIDENTE</td>\n",
              "      <td>SÃO LUÍS</td>\n",
              "      <td>MA</td>\n",
              "      <td>05/02/2010</td>\n",
              "      <td>09:30:00</td>\n",
              "      <td>0</td>\n",
              "      <td>1</td>\n",
              "      <td>NÃO</td>\n",
              "    </tr>\n",
              "  </tbody>\n",
              "</table>\n",
              "</div>"
            ],
            "text/plain": [
              "   Ocorrencia Classificacao_ocorrencias          Cidade  UF         Dia  \\\n",
              "0       39115                  ACIDENTE      CORRENTINA  BA  07/02/2010   \n",
              "1       39155                 INCIDENTE  BELO HORIZONTE  MG  05/02/2010   \n",
              "2       39156           INCIDENTE GRAVE        CASCAVEL  PR  10/01/2010   \n",
              "3       39158                 INCIDENTE           BELÉM  PA  28/01/2010   \n",
              "4       39176                 INCIDENTE        SÃO LUÍS  MA  05/02/2010   \n",
              "\n",
              "       Hora  Total_Recomendacoes  Aeronaves_Envolvidas Saida_Pista  \n",
              "0  17:40:00                    2                     1         NÃO  \n",
              "1  12:55:00                    0                     1         NÃO  \n",
              "2  23:15:00                    2                     1         NÃO  \n",
              "3  16:00:00                    0                     1         NÃO  \n",
              "4  09:30:00                    0                     1         NÃO  "
            ]
          },
          "execution_count": 10,
          "metadata": {},
          "output_type": "execute_result"
        }
      ],
      "source": [
        "# Imprimindo as primeiras linhas do Dataset ocorrencias\n",
        "\n",
        "ocorrencias.head()"
      ]
    },
    {
      "cell_type": "code",
      "execution_count": null,
      "metadata": {
        "id": "JFGtkFXQLvHH",
        "outputId": "db995c62-7986-4bec-c6a7-1ef60a04e807"
      },
      "outputs": [
        {
          "data": {
            "text/html": [
              "<div>\n",
              "<style scoped>\n",
              "    .dataframe tbody tr th:only-of-type {\n",
              "        vertical-align: middle;\n",
              "    }\n",
              "\n",
              "    .dataframe tbody tr th {\n",
              "        vertical-align: top;\n",
              "    }\n",
              "\n",
              "    .dataframe thead th {\n",
              "        text-align: right;\n",
              "    }\n",
              "</style>\n",
              "<table border=\"1\" class=\"dataframe\">\n",
              "  <thead>\n",
              "    <tr style=\"text-align: right;\">\n",
              "      <th></th>\n",
              "      <th>Ocorrencia</th>\n",
              "      <th>Fator_Nome</th>\n",
              "      <th>Fator_Aspecto</th>\n",
              "      <th>Fator_Condicionante</th>\n",
              "      <th>Fator_Area</th>\n",
              "    </tr>\n",
              "  </thead>\n",
              "  <tbody>\n",
              "    <tr>\n",
              "      <th>0</th>\n",
              "      <td>39115</td>\n",
              "      <td>APLICAÇÃO DE COMANDOS</td>\n",
              "      <td>DESEMPENHO DO SER HUMANO</td>\n",
              "      <td>OPERAÇÃO DA AERONAVE</td>\n",
              "      <td>FATOR OPERACIONAL</td>\n",
              "    </tr>\n",
              "    <tr>\n",
              "      <th>1</th>\n",
              "      <td>39115</td>\n",
              "      <td>JULGAMENTO DE PILOTAGEM</td>\n",
              "      <td>DESEMPENHO DO SER HUMANO</td>\n",
              "      <td>OPERAÇÃO DA AERONAVE</td>\n",
              "      <td>FATOR OPERACIONAL</td>\n",
              "    </tr>\n",
              "    <tr>\n",
              "      <th>2</th>\n",
              "      <td>39115</td>\n",
              "      <td>PERCEPÇÃO</td>\n",
              "      <td>ASPECTO PSICOLÓGICO</td>\n",
              "      <td>INDIVIDUAL</td>\n",
              "      <td>FATOR HUMANO</td>\n",
              "    </tr>\n",
              "    <tr>\n",
              "      <th>3</th>\n",
              "      <td>39115</td>\n",
              "      <td>PLANEJAMENTO DE VOO</td>\n",
              "      <td>DESEMPENHO DO SER HUMANO</td>\n",
              "      <td>OPERAÇÃO DA AERONAVE</td>\n",
              "      <td>FATOR OPERACIONAL</td>\n",
              "    </tr>\n",
              "    <tr>\n",
              "      <th>4</th>\n",
              "      <td>39115</td>\n",
              "      <td>POUCA EXPERIÊNCIA DO PILOTO</td>\n",
              "      <td>DESEMPENHO DO SER HUMANO</td>\n",
              "      <td>OPERAÇÃO DA AERONAVE</td>\n",
              "      <td>FATOR OPERACIONAL</td>\n",
              "    </tr>\n",
              "  </tbody>\n",
              "</table>\n",
              "</div>"
            ],
            "text/plain": [
              "   Ocorrencia                   Fator_Nome             Fator_Aspecto  \\\n",
              "0       39115        APLICAÇÃO DE COMANDOS  DESEMPENHO DO SER HUMANO   \n",
              "1       39115      JULGAMENTO DE PILOTAGEM  DESEMPENHO DO SER HUMANO   \n",
              "2       39115                    PERCEPÇÃO       ASPECTO PSICOLÓGICO   \n",
              "3       39115          PLANEJAMENTO DE VOO  DESEMPENHO DO SER HUMANO   \n",
              "4       39115  POUCA EXPERIÊNCIA DO PILOTO  DESEMPENHO DO SER HUMANO   \n",
              "\n",
              "    Fator_Condicionante         Fator_Area  \n",
              "0  OPERAÇÃO DA AERONAVE  FATOR OPERACIONAL  \n",
              "1  OPERAÇÃO DA AERONAVE  FATOR OPERACIONAL  \n",
              "2            INDIVIDUAL       FATOR HUMANO  \n",
              "3  OPERAÇÃO DA AERONAVE  FATOR OPERACIONAL  \n",
              "4  OPERAÇÃO DA AERONAVE  FATOR OPERACIONAL  "
            ]
          },
          "execution_count": 11,
          "metadata": {},
          "output_type": "execute_result"
        }
      ],
      "source": [
        "# Imprimindo as primeiras linhas do Dataset fatores\n",
        "\n",
        "fatores.head()"
      ]
    },
    {
      "cell_type": "code",
      "execution_count": null,
      "metadata": {
        "id": "MMHqxZMvLvHH"
      },
      "outputs": [],
      "source": [
        ""
      ]
    },
    {
      "cell_type": "markdown",
      "metadata": {
        "id": "ZvnGL2c0LvHI"
      },
      "source": [
        "Alguns erros já foram identificados!\n",
        "\n",
        "As colunas Assentos e Ano_Fabricacao do Dataset aeronaves estão no formato float64.\n",
        "\n",
        "Vou resolver esse problema transformando a coluna Assentos para o formato int64 e depois a coluna Ano_Fabricacao para o formato de texto."
      ]
    },
    {
      "cell_type": "code",
      "execution_count": null,
      "metadata": {
        "id": "58GtHC9JLvHI",
        "outputId": "aa113798-0b05-4ad2-c8a2-49b576fd33e8"
      },
      "outputs": [
        {
          "ename": "ValueError",
          "evalue": "Cannot convert non-finite values (NA or inf) to integer",
          "output_type": "error",
          "traceback": [
            "\u001b[1;31m---------------------------------------------------------------------------\u001b[0m",
            "\u001b[1;31mValueError\u001b[0m                                Traceback (most recent call last)",
            "\u001b[1;32m<ipython-input-12-f28ed4ab2d8e>\u001b[0m in \u001b[0;36m<module>\u001b[1;34m()\u001b[0m\n\u001b[0;32m      1\u001b[0m \u001b[1;31m# Convertendo os tipos das colunas\u001b[0m\u001b[1;33m\u001b[0m\u001b[1;33m\u001b[0m\u001b[0m\n\u001b[0;32m      2\u001b[0m \u001b[1;33m\u001b[0m\u001b[0m\n\u001b[1;32m----> 3\u001b[1;33m \u001b[0maeronaves\u001b[0m\u001b[1;33m[\u001b[0m\u001b[1;34m'Assentos'\u001b[0m\u001b[1;33m]\u001b[0m \u001b[1;33m=\u001b[0m \u001b[0maeronaves\u001b[0m\u001b[1;33m.\u001b[0m\u001b[0mAssentos\u001b[0m\u001b[1;33m.\u001b[0m\u001b[0mastype\u001b[0m\u001b[1;33m(\u001b[0m\u001b[1;34m'int64'\u001b[0m\u001b[1;33m)\u001b[0m\u001b[1;33m\u001b[0m\u001b[0m\n\u001b[0m\u001b[0;32m      4\u001b[0m \u001b[1;33m\u001b[0m\u001b[0m\n\u001b[0;32m      5\u001b[0m \u001b[0maeronaves\u001b[0m\u001b[1;33m[\u001b[0m\u001b[1;34m'Ano_Fabricacao'\u001b[0m\u001b[1;33m]\u001b[0m \u001b[1;33m=\u001b[0m \u001b[0maeronaves\u001b[0m\u001b[1;33m.\u001b[0m\u001b[0mAno_Fabricacao\u001b[0m\u001b[1;33m.\u001b[0m\u001b[0mastype\u001b[0m\u001b[1;33m(\u001b[0m\u001b[1;34m'object'\u001b[0m\u001b[1;33m)\u001b[0m\u001b[1;33m\u001b[0m\u001b[0m\n",
            "\u001b[1;32m~\\Anaconda3\\lib\\site-packages\\pandas\\util\\_decorators.py\u001b[0m in \u001b[0;36mwrapper\u001b[1;34m(*args, **kwargs)\u001b[0m\n\u001b[0;32m    175\u001b[0m                 \u001b[1;32melse\u001b[0m\u001b[1;33m:\u001b[0m\u001b[1;33m\u001b[0m\u001b[0m\n\u001b[0;32m    176\u001b[0m                     \u001b[0mkwargs\u001b[0m\u001b[1;33m[\u001b[0m\u001b[0mnew_arg_name\u001b[0m\u001b[1;33m]\u001b[0m \u001b[1;33m=\u001b[0m \u001b[0mnew_arg_value\u001b[0m\u001b[1;33m\u001b[0m\u001b[0m\n\u001b[1;32m--> 177\u001b[1;33m             \u001b[1;32mreturn\u001b[0m \u001b[0mfunc\u001b[0m\u001b[1;33m(\u001b[0m\u001b[1;33m*\u001b[0m\u001b[0margs\u001b[0m\u001b[1;33m,\u001b[0m \u001b[1;33m**\u001b[0m\u001b[0mkwargs\u001b[0m\u001b[1;33m)\u001b[0m\u001b[1;33m\u001b[0m\u001b[0m\n\u001b[0m\u001b[0;32m    178\u001b[0m         \u001b[1;32mreturn\u001b[0m \u001b[0mwrapper\u001b[0m\u001b[1;33m\u001b[0m\u001b[0m\n\u001b[0;32m    179\u001b[0m     \u001b[1;32mreturn\u001b[0m \u001b[0m_deprecate_kwarg\u001b[0m\u001b[1;33m\u001b[0m\u001b[0m\n",
            "\u001b[1;32m~\\Anaconda3\\lib\\site-packages\\pandas\\core\\generic.py\u001b[0m in \u001b[0;36mastype\u001b[1;34m(self, dtype, copy, errors, **kwargs)\u001b[0m\n\u001b[0;32m   4995\u001b[0m             \u001b[1;31m# else, only a single dtype is given\u001b[0m\u001b[1;33m\u001b[0m\u001b[1;33m\u001b[0m\u001b[0m\n\u001b[0;32m   4996\u001b[0m             new_data = self._data.astype(dtype=dtype, copy=copy, errors=errors,\n\u001b[1;32m-> 4997\u001b[1;33m                                          **kwargs)\n\u001b[0m\u001b[0;32m   4998\u001b[0m             \u001b[1;32mreturn\u001b[0m \u001b[0mself\u001b[0m\u001b[1;33m.\u001b[0m\u001b[0m_constructor\u001b[0m\u001b[1;33m(\u001b[0m\u001b[0mnew_data\u001b[0m\u001b[1;33m)\u001b[0m\u001b[1;33m.\u001b[0m\u001b[0m__finalize__\u001b[0m\u001b[1;33m(\u001b[0m\u001b[0mself\u001b[0m\u001b[1;33m)\u001b[0m\u001b[1;33m\u001b[0m\u001b[0m\n\u001b[0;32m   4999\u001b[0m \u001b[1;33m\u001b[0m\u001b[0m\n",
            "\u001b[1;32m~\\Anaconda3\\lib\\site-packages\\pandas\\core\\internals.py\u001b[0m in \u001b[0;36mastype\u001b[1;34m(self, dtype, **kwargs)\u001b[0m\n\u001b[0;32m   3712\u001b[0m \u001b[1;33m\u001b[0m\u001b[0m\n\u001b[0;32m   3713\u001b[0m     \u001b[1;32mdef\u001b[0m \u001b[0mastype\u001b[0m\u001b[1;33m(\u001b[0m\u001b[0mself\u001b[0m\u001b[1;33m,\u001b[0m \u001b[0mdtype\u001b[0m\u001b[1;33m,\u001b[0m \u001b[1;33m**\u001b[0m\u001b[0mkwargs\u001b[0m\u001b[1;33m)\u001b[0m\u001b[1;33m:\u001b[0m\u001b[1;33m\u001b[0m\u001b[0m\n\u001b[1;32m-> 3714\u001b[1;33m         \u001b[1;32mreturn\u001b[0m \u001b[0mself\u001b[0m\u001b[1;33m.\u001b[0m\u001b[0mapply\u001b[0m\u001b[1;33m(\u001b[0m\u001b[1;34m'astype'\u001b[0m\u001b[1;33m,\u001b[0m \u001b[0mdtype\u001b[0m\u001b[1;33m=\u001b[0m\u001b[0mdtype\u001b[0m\u001b[1;33m,\u001b[0m \u001b[1;33m**\u001b[0m\u001b[0mkwargs\u001b[0m\u001b[1;33m)\u001b[0m\u001b[1;33m\u001b[0m\u001b[0m\n\u001b[0m\u001b[0;32m   3715\u001b[0m \u001b[1;33m\u001b[0m\u001b[0m\n\u001b[0;32m   3716\u001b[0m     \u001b[1;32mdef\u001b[0m \u001b[0mconvert\u001b[0m\u001b[1;33m(\u001b[0m\u001b[0mself\u001b[0m\u001b[1;33m,\u001b[0m \u001b[1;33m**\u001b[0m\u001b[0mkwargs\u001b[0m\u001b[1;33m)\u001b[0m\u001b[1;33m:\u001b[0m\u001b[1;33m\u001b[0m\u001b[0m\n",
            "\u001b[1;32m~\\Anaconda3\\lib\\site-packages\\pandas\\core\\internals.py\u001b[0m in \u001b[0;36mapply\u001b[1;34m(self, f, axes, filter, do_integrity_check, consolidate, **kwargs)\u001b[0m\n\u001b[0;32m   3579\u001b[0m \u001b[1;33m\u001b[0m\u001b[0m\n\u001b[0;32m   3580\u001b[0m             \u001b[0mkwargs\u001b[0m\u001b[1;33m[\u001b[0m\u001b[1;34m'mgr'\u001b[0m\u001b[1;33m]\u001b[0m \u001b[1;33m=\u001b[0m \u001b[0mself\u001b[0m\u001b[1;33m\u001b[0m\u001b[0m\n\u001b[1;32m-> 3581\u001b[1;33m             \u001b[0mapplied\u001b[0m \u001b[1;33m=\u001b[0m \u001b[0mgetattr\u001b[0m\u001b[1;33m(\u001b[0m\u001b[0mb\u001b[0m\u001b[1;33m,\u001b[0m \u001b[0mf\u001b[0m\u001b[1;33m)\u001b[0m\u001b[1;33m(\u001b[0m\u001b[1;33m**\u001b[0m\u001b[0mkwargs\u001b[0m\u001b[1;33m)\u001b[0m\u001b[1;33m\u001b[0m\u001b[0m\n\u001b[0m\u001b[0;32m   3582\u001b[0m             \u001b[0mresult_blocks\u001b[0m \u001b[1;33m=\u001b[0m \u001b[0m_extend_blocks\u001b[0m\u001b[1;33m(\u001b[0m\u001b[0mapplied\u001b[0m\u001b[1;33m,\u001b[0m \u001b[0mresult_blocks\u001b[0m\u001b[1;33m)\u001b[0m\u001b[1;33m\u001b[0m\u001b[0m\n\u001b[0;32m   3583\u001b[0m \u001b[1;33m\u001b[0m\u001b[0m\n",
            "\u001b[1;32m~\\Anaconda3\\lib\\site-packages\\pandas\\core\\internals.py\u001b[0m in \u001b[0;36mastype\u001b[1;34m(self, dtype, copy, errors, values, **kwargs)\u001b[0m\n\u001b[0;32m    573\u001b[0m     \u001b[1;32mdef\u001b[0m \u001b[0mastype\u001b[0m\u001b[1;33m(\u001b[0m\u001b[0mself\u001b[0m\u001b[1;33m,\u001b[0m \u001b[0mdtype\u001b[0m\u001b[1;33m,\u001b[0m \u001b[0mcopy\u001b[0m\u001b[1;33m=\u001b[0m\u001b[1;32mFalse\u001b[0m\u001b[1;33m,\u001b[0m \u001b[0merrors\u001b[0m\u001b[1;33m=\u001b[0m\u001b[1;34m'raise'\u001b[0m\u001b[1;33m,\u001b[0m \u001b[0mvalues\u001b[0m\u001b[1;33m=\u001b[0m\u001b[1;32mNone\u001b[0m\u001b[1;33m,\u001b[0m \u001b[1;33m**\u001b[0m\u001b[0mkwargs\u001b[0m\u001b[1;33m)\u001b[0m\u001b[1;33m:\u001b[0m\u001b[1;33m\u001b[0m\u001b[0m\n\u001b[0;32m    574\u001b[0m         return self._astype(dtype, copy=copy, errors=errors, values=values,\n\u001b[1;32m--> 575\u001b[1;33m                             **kwargs)\n\u001b[0m\u001b[0;32m    576\u001b[0m \u001b[1;33m\u001b[0m\u001b[0m\n\u001b[0;32m    577\u001b[0m     def _astype(self, dtype, copy=False, errors='raise', values=None,\n",
            "\u001b[1;32m~\\Anaconda3\\lib\\site-packages\\pandas\\core\\internals.py\u001b[0m in \u001b[0;36m_astype\u001b[1;34m(self, dtype, copy, errors, values, klass, mgr, **kwargs)\u001b[0m\n\u001b[0;32m    662\u001b[0m \u001b[1;33m\u001b[0m\u001b[0m\n\u001b[0;32m    663\u001b[0m                 \u001b[1;31m# _astype_nansafe works fine with 1-d only\u001b[0m\u001b[1;33m\u001b[0m\u001b[1;33m\u001b[0m\u001b[0m\n\u001b[1;32m--> 664\u001b[1;33m                 \u001b[0mvalues\u001b[0m \u001b[1;33m=\u001b[0m \u001b[0mastype_nansafe\u001b[0m\u001b[1;33m(\u001b[0m\u001b[0mvalues\u001b[0m\u001b[1;33m.\u001b[0m\u001b[0mravel\u001b[0m\u001b[1;33m(\u001b[0m\u001b[1;33m)\u001b[0m\u001b[1;33m,\u001b[0m \u001b[0mdtype\u001b[0m\u001b[1;33m,\u001b[0m \u001b[0mcopy\u001b[0m\u001b[1;33m=\u001b[0m\u001b[1;32mTrue\u001b[0m\u001b[1;33m)\u001b[0m\u001b[1;33m\u001b[0m\u001b[0m\n\u001b[0m\u001b[0;32m    665\u001b[0m                 \u001b[0mvalues\u001b[0m \u001b[1;33m=\u001b[0m \u001b[0mvalues\u001b[0m\u001b[1;33m.\u001b[0m\u001b[0mreshape\u001b[0m\u001b[1;33m(\u001b[0m\u001b[0mself\u001b[0m\u001b[1;33m.\u001b[0m\u001b[0mshape\u001b[0m\u001b[1;33m)\u001b[0m\u001b[1;33m\u001b[0m\u001b[0m\n\u001b[0;32m    666\u001b[0m \u001b[1;33m\u001b[0m\u001b[0m\n",
            "\u001b[1;32m~\\Anaconda3\\lib\\site-packages\\pandas\\core\\dtypes\\cast.py\u001b[0m in \u001b[0;36mastype_nansafe\u001b[1;34m(arr, dtype, copy)\u001b[0m\n\u001b[0;32m    700\u001b[0m \u001b[1;33m\u001b[0m\u001b[0m\n\u001b[0;32m    701\u001b[0m         \u001b[1;32mif\u001b[0m \u001b[1;32mnot\u001b[0m \u001b[0mnp\u001b[0m\u001b[1;33m.\u001b[0m\u001b[0misfinite\u001b[0m\u001b[1;33m(\u001b[0m\u001b[0marr\u001b[0m\u001b[1;33m)\u001b[0m\u001b[1;33m.\u001b[0m\u001b[0mall\u001b[0m\u001b[1;33m(\u001b[0m\u001b[1;33m)\u001b[0m\u001b[1;33m:\u001b[0m\u001b[1;33m\u001b[0m\u001b[0m\n\u001b[1;32m--> 702\u001b[1;33m             raise ValueError('Cannot convert non-finite values (NA or inf) to '\n\u001b[0m\u001b[0;32m    703\u001b[0m                              'integer')\n\u001b[0;32m    704\u001b[0m \u001b[1;33m\u001b[0m\u001b[0m\n",
            "\u001b[1;31mValueError\u001b[0m: Cannot convert non-finite values (NA or inf) to integer"
          ]
        }
      ],
      "source": [
        "# Convertendo os tipos das colunas\n",
        "\n",
        "aeronaves['Assentos'] = aeronaves.Assentos.astype('int64')\n",
        "\n",
        "aeronaves['Ano_Fabricacao'] = aeronaves.Ano_Fabricacao.astype('object')"
      ]
    },
    {
      "cell_type": "markdown",
      "metadata": {
        "id": "Avpa2QZwLvHJ"
      },
      "source": [
        "Como visto, um erro acabou de acontecer!\n",
        "\n",
        "Isso porque a coluna Assentos apresenta valores missing, ou seja nulos."
      ]
    },
    {
      "cell_type": "code",
      "execution_count": null,
      "metadata": {
        "id": "38rTqWWXLvHK",
        "outputId": "d7609ef6-b182-49e2-9d0e-106072a65496"
      },
      "outputs": [
        {
          "data": {
            "text/plain": [
              "Ocorrencia          0\n",
              "Matricula           0\n",
              "Categoria           0\n",
              "Aeronave            0\n",
              "Fabricante          0\n",
              "Modelo              0\n",
              "Motor               0\n",
              "Qnt_Motores         0\n",
              "Assentos          125\n",
              "Ano_Fabricacao    118\n",
              "Fase_Operacao       0\n",
              "Dano                0\n",
              "Fatalidades         0\n",
              "dtype: int64"
            ]
          },
          "execution_count": 13,
          "metadata": {},
          "output_type": "execute_result"
        }
      ],
      "source": [
        "# Buscando por valores missing em todas as colunas da tabela aeronave\n",
        "\n",
        "aeronaves.isnull().sum()"
      ]
    },
    {
      "cell_type": "code",
      "execution_count": null,
      "metadata": {
        "id": "sGSx0b69LvHL",
        "outputId": "3b28b3b2-864b-43b0-f322-f0803b53b44c"
      },
      "outputs": [
        {
          "data": {
            "text/html": [
              "<div>\n",
              "<style scoped>\n",
              "    .dataframe tbody tr th:only-of-type {\n",
              "        vertical-align: middle;\n",
              "    }\n",
              "\n",
              "    .dataframe tbody tr th {\n",
              "        vertical-align: top;\n",
              "    }\n",
              "\n",
              "    .dataframe thead th {\n",
              "        text-align: right;\n",
              "    }\n",
              "</style>\n",
              "<table border=\"1\" class=\"dataframe\">\n",
              "  <thead>\n",
              "    <tr style=\"text-align: right;\">\n",
              "      <th></th>\n",
              "      <th>Ocorrencia</th>\n",
              "      <th>Matricula</th>\n",
              "      <th>Categoria</th>\n",
              "      <th>Aeronave</th>\n",
              "      <th>Fabricante</th>\n",
              "      <th>Modelo</th>\n",
              "      <th>Motor</th>\n",
              "      <th>Qnt_Motores</th>\n",
              "      <th>Assentos</th>\n",
              "      <th>Ano_Fabricacao</th>\n",
              "      <th>Fase_Operacao</th>\n",
              "      <th>Dano</th>\n",
              "      <th>Fatalidades</th>\n",
              "    </tr>\n",
              "  </thead>\n",
              "  <tbody>\n",
              "    <tr>\n",
              "      <th>398</th>\n",
              "      <td>43008</td>\n",
              "      <td>HP1539</td>\n",
              "      <td>***</td>\n",
              "      <td>AVIÃO</td>\n",
              "      <td>BOEING COMPANY</td>\n",
              "      <td>737-700</td>\n",
              "      <td>PISTÃO</td>\n",
              "      <td>***</td>\n",
              "      <td>NaN</td>\n",
              "      <td>2010.0</td>\n",
              "      <td>CRUZEIRO</td>\n",
              "      <td>NENHUM</td>\n",
              "      <td>0</td>\n",
              "    </tr>\n",
              "    <tr>\n",
              "      <th>1565</th>\n",
              "      <td>46626</td>\n",
              "      <td>PTXXX1</td>\n",
              "      <td>PARTICULAR</td>\n",
              "      <td>HELICÓPTERO</td>\n",
              "      <td>HELIBRAS</td>\n",
              "      <td>***</td>\n",
              "      <td>TURBOEIXO</td>\n",
              "      <td>***</td>\n",
              "      <td>NaN</td>\n",
              "      <td>0.0</td>\n",
              "      <td>TÁXI</td>\n",
              "      <td>LEVE</td>\n",
              "      <td>0</td>\n",
              "    </tr>\n",
              "    <tr>\n",
              "      <th>2285</th>\n",
              "      <td>50389</td>\n",
              "      <td>PRBAB</td>\n",
              "      <td>PARTICULAR</td>\n",
              "      <td>AVIÃO</td>\n",
              "      <td>CIRRUS DESIGN</td>\n",
              "      <td>SR22</td>\n",
              "      <td>PISTÃO</td>\n",
              "      <td>MONOMOTOR</td>\n",
              "      <td>0.0</td>\n",
              "      <td>NaN</td>\n",
              "      <td>DECOLAGEM</td>\n",
              "      <td>NENHUM</td>\n",
              "      <td>0</td>\n",
              "    </tr>\n",
              "  </tbody>\n",
              "</table>\n",
              "</div>"
            ],
            "text/plain": [
              "      Ocorrencia Matricula   Categoria     Aeronave      Fabricante   Modelo  \\\n",
              "398        43008    HP1539         ***        AVIÃO  BOEING COMPANY  737-700   \n",
              "1565       46626    PTXXX1  PARTICULAR  HELICÓPTERO        HELIBRAS      ***   \n",
              "2285       50389     PRBAB  PARTICULAR        AVIÃO   CIRRUS DESIGN     SR22   \n",
              "\n",
              "          Motor Qnt_Motores  Assentos  Ano_Fabricacao Fase_Operacao    Dano  \\\n",
              "398      PISTÃO         ***       NaN          2010.0      CRUZEIRO  NENHUM   \n",
              "1565  TURBOEIXO         ***       NaN             0.0          TÁXI    LEVE   \n",
              "2285     PISTÃO   MONOMOTOR       0.0             NaN     DECOLAGEM  NENHUM   \n",
              "\n",
              "      Fatalidades  \n",
              "398             0  \n",
              "1565            0  \n",
              "2285            0  "
            ]
          },
          "execution_count": 14,
          "metadata": {},
          "output_type": "execute_result"
        }
      ],
      "source": [
        "# Retornando algumas linhas com esses valores\n",
        "\n",
        "aeronaves[aeronaves.isnull().any(axis=1)].head(3)"
      ]
    },
    {
      "cell_type": "code",
      "execution_count": null,
      "metadata": {
        "id": "tmnE1iBRLvHL",
        "outputId": "7494e0f0-65fc-45c5-9d5b-983a29d6c85f"
      },
      "outputs": [
        {
          "data": {
            "text/plain": [
              "Ocorrencia                   0\n",
              "Classificacao_ocorrencias    0\n",
              "Cidade                       0\n",
              "UF                           0\n",
              "Dia                          0\n",
              "Hora                         9\n",
              "Total_Recomendacoes          0\n",
              "Aeronaves_Envolvidas         0\n",
              "Saida_Pista                  0\n",
              "dtype: int64"
            ]
          },
          "execution_count": 15,
          "metadata": {},
          "output_type": "execute_result"
        }
      ],
      "source": [
        "# Buscando por valores missing em todas as colunas da tabela ocorrencias\n",
        "\n",
        "ocorrencias.isnull().sum()"
      ]
    },
    {
      "cell_type": "code",
      "execution_count": null,
      "metadata": {
        "id": "Ls6H6MbxLvHM",
        "outputId": "cc717d93-5956-4e69-fe96-b0e738908a89"
      },
      "outputs": [
        {
          "data": {
            "text/html": [
              "<div>\n",
              "<style scoped>\n",
              "    .dataframe tbody tr th:only-of-type {\n",
              "        vertical-align: middle;\n",
              "    }\n",
              "\n",
              "    .dataframe tbody tr th {\n",
              "        vertical-align: top;\n",
              "    }\n",
              "\n",
              "    .dataframe thead th {\n",
              "        text-align: right;\n",
              "    }\n",
              "</style>\n",
              "<table border=\"1\" class=\"dataframe\">\n",
              "  <thead>\n",
              "    <tr style=\"text-align: right;\">\n",
              "      <th></th>\n",
              "      <th>Ocorrencia</th>\n",
              "      <th>Classificacao_ocorrencias</th>\n",
              "      <th>Cidade</th>\n",
              "      <th>UF</th>\n",
              "      <th>Dia</th>\n",
              "      <th>Hora</th>\n",
              "      <th>Total_Recomendacoes</th>\n",
              "      <th>Aeronaves_Envolvidas</th>\n",
              "      <th>Saida_Pista</th>\n",
              "    </tr>\n",
              "  </thead>\n",
              "  <tbody>\n",
              "    <tr>\n",
              "      <th>4998</th>\n",
              "      <td>78818</td>\n",
              "      <td>ACIDENTE</td>\n",
              "      <td>PORTO BELO</td>\n",
              "      <td>SC</td>\n",
              "      <td>07/08/2013</td>\n",
              "      <td>NaN</td>\n",
              "      <td>0</td>\n",
              "      <td>1</td>\n",
              "      <td>NÃO</td>\n",
              "    </tr>\n",
              "    <tr>\n",
              "      <th>4999</th>\n",
              "      <td>78819</td>\n",
              "      <td>INCIDENTE GRAVE</td>\n",
              "      <td>CAMPO GRANDE</td>\n",
              "      <td>MS</td>\n",
              "      <td>01/08/2014</td>\n",
              "      <td>NaN</td>\n",
              "      <td>0</td>\n",
              "      <td>1</td>\n",
              "      <td>NÃO</td>\n",
              "    </tr>\n",
              "    <tr>\n",
              "      <th>5000</th>\n",
              "      <td>78820</td>\n",
              "      <td>INCIDENTE</td>\n",
              "      <td>CAMPINAS</td>\n",
              "      <td>SP</td>\n",
              "      <td>12/08/2017</td>\n",
              "      <td>NaN</td>\n",
              "      <td>0</td>\n",
              "      <td>1</td>\n",
              "      <td>NÃO</td>\n",
              "    </tr>\n",
              "  </tbody>\n",
              "</table>\n",
              "</div>"
            ],
            "text/plain": [
              "      Ocorrencia Classificacao_ocorrencias        Cidade  UF         Dia Hora  \\\n",
              "4998       78818                  ACIDENTE    PORTO BELO  SC  07/08/2013  NaN   \n",
              "4999       78819           INCIDENTE GRAVE  CAMPO GRANDE  MS  01/08/2014  NaN   \n",
              "5000       78820                 INCIDENTE      CAMPINAS  SP  12/08/2017  NaN   \n",
              "\n",
              "      Total_Recomendacoes  Aeronaves_Envolvidas Saida_Pista  \n",
              "4998                    0                     1         NÃO  \n",
              "4999                    0                     1         NÃO  \n",
              "5000                    0                     1         NÃO  "
            ]
          },
          "execution_count": 16,
          "metadata": {},
          "output_type": "execute_result"
        }
      ],
      "source": [
        "# Retornando algumas linhas com esses valores\n",
        "\n",
        "ocorrencias[ocorrencias.isnull().any(axis=1)].head(3)"
      ]
    },
    {
      "cell_type": "code",
      "execution_count": null,
      "metadata": {
        "id": "b9tXutWXLvHN",
        "outputId": "76bf19bd-96a0-42ad-b465-1049cb7ab510"
      },
      "outputs": [
        {
          "data": {
            "text/plain": [
              "Ocorrencia             0\n",
              "Fator_Nome             0\n",
              "Fator_Aspecto          0\n",
              "Fator_Condicionante    0\n",
              "Fator_Area             0\n",
              "dtype: int64"
            ]
          },
          "execution_count": 17,
          "metadata": {},
          "output_type": "execute_result"
        }
      ],
      "source": [
        "# Buscando por valores missing em todas as colunas da tabela fatores\n",
        "\n",
        "fatores.isnull().sum()"
      ]
    },
    {
      "cell_type": "code",
      "execution_count": null,
      "metadata": {
        "id": "FWz0I56gLvHN"
      },
      "outputs": [],
      "source": [
        ""
      ]
    },
    {
      "cell_type": "markdown",
      "metadata": {
        "id": "Cy-TLe04LvHO"
      },
      "source": [
        "Como visto o Dataset fatores é o único dos três que já está devidamente tratado!<br>\n",
        "\n",
        "A coluna Assentos e Ano_Fabricacao da tabela aeronaves e também a coluna Hora da tabela ocorrencias apresentam o mesmo problema.<br>\n",
        "\n",
        "Uma coisa que eu sempre faço além de buscar valores missing é tentar identificar algum outro tipo de padrão no meio dos dados, principalmente aqueles que acontecem com mais frequência.<br>\n",
        "\n",
        "Para isso vou buscar os dez valores que mais são frequentes nestas colunas!"
      ]
    },
    {
      "cell_type": "code",
      "execution_count": null,
      "metadata": {
        "id": "F9GreZOELvHO",
        "outputId": "22622e33-332e-4ee9-88b5-6ad4c25771fc"
      },
      "outputs": [
        {
          "data": {
            "text/plain": [
              "6.0      888\n",
              "2.0      811\n",
              "4.0      626\n",
              "1.0      491\n",
              "7.0      301\n",
              "0.0      206\n",
              "8.0      168\n",
              "10.0     153\n",
              "125.0    134\n",
              "11.0     124\n",
              "Name: Assentos, dtype: int64"
            ]
          },
          "execution_count": 18,
          "metadata": {},
          "output_type": "execute_result"
        }
      ],
      "source": [
        "# Os dez valores mais frequentes na coluna Assentos do dataset aeronaves\n",
        "\n",
        "aeronaves.Assentos.value_counts().head(10)"
      ]
    },
    {
      "cell_type": "markdown",
      "metadata": {
        "id": "pIss3NPlLvHP"
      },
      "source": [
        "Como identificado temos os valores que são \"0.0\" zeros, isso está certo?\n",
        "\n",
        "Lógicamente que não, pois não existe aeronave com uma quantidade de assentos igual a zero!"
      ]
    },
    {
      "cell_type": "code",
      "execution_count": null,
      "metadata": {
        "id": "AciA-9S0LvHP",
        "outputId": "a1505678-0864-47ef-e39f-dc0f8038e3c9"
      },
      "outputs": [
        {
          "data": {
            "text/html": [
              "<div>\n",
              "<style scoped>\n",
              "    .dataframe tbody tr th:only-of-type {\n",
              "        vertical-align: middle;\n",
              "    }\n",
              "\n",
              "    .dataframe tbody tr th {\n",
              "        vertical-align: top;\n",
              "    }\n",
              "\n",
              "    .dataframe thead th {\n",
              "        text-align: right;\n",
              "    }\n",
              "</style>\n",
              "<table border=\"1\" class=\"dataframe\">\n",
              "  <thead>\n",
              "    <tr style=\"text-align: right;\">\n",
              "      <th></th>\n",
              "      <th>Ocorrencia</th>\n",
              "      <th>Assentos</th>\n",
              "    </tr>\n",
              "  </thead>\n",
              "  <tbody>\n",
              "    <tr>\n",
              "      <th>126</th>\n",
              "      <td>40330</td>\n",
              "      <td>0.0</td>\n",
              "    </tr>\n",
              "    <tr>\n",
              "      <th>166</th>\n",
              "      <td>40835</td>\n",
              "      <td>0.0</td>\n",
              "    </tr>\n",
              "    <tr>\n",
              "      <th>168</th>\n",
              "      <td>40839</td>\n",
              "      <td>0.0</td>\n",
              "    </tr>\n",
              "    <tr>\n",
              "      <th>177</th>\n",
              "      <td>41155</td>\n",
              "      <td>0.0</td>\n",
              "    </tr>\n",
              "    <tr>\n",
              "      <th>189</th>\n",
              "      <td>41274</td>\n",
              "      <td>0.0</td>\n",
              "    </tr>\n",
              "  </tbody>\n",
              "</table>\n",
              "</div>"
            ],
            "text/plain": [
              "     Ocorrencia  Assentos\n",
              "126       40330       0.0\n",
              "166       40835       0.0\n",
              "168       40839       0.0\n",
              "177       41155       0.0\n",
              "189       41274       0.0"
            ]
          },
          "execution_count": 19,
          "metadata": {},
          "output_type": "execute_result"
        }
      ],
      "source": [
        "# Identificando algumas linhas que estão com os valores 0.0\n",
        "\n",
        "aeronaves.loc[aeronaves['Assentos'] == 0.0,['Ocorrencia','Assentos']].head()"
      ]
    },
    {
      "cell_type": "markdown",
      "metadata": {
        "id": "c5vRDabZLvHQ"
      },
      "source": [
        "Aqui farei o mesmo tipo de pesquisa para a coluna Ano_Fabricacao."
      ]
    },
    {
      "cell_type": "code",
      "execution_count": null,
      "metadata": {
        "id": "w2tKimgSLvHQ",
        "outputId": "09593275-511a-4a65-d4b5-3538d2855512"
      },
      "outputs": [
        {
          "data": {
            "text/html": [
              "<div>\n",
              "<style scoped>\n",
              "    .dataframe tbody tr th:only-of-type {\n",
              "        vertical-align: middle;\n",
              "    }\n",
              "\n",
              "    .dataframe tbody tr th {\n",
              "        vertical-align: top;\n",
              "    }\n",
              "\n",
              "    .dataframe thead th {\n",
              "        text-align: right;\n",
              "    }\n",
              "</style>\n",
              "<table border=\"1\" class=\"dataframe\">\n",
              "  <thead>\n",
              "    <tr style=\"text-align: right;\">\n",
              "      <th></th>\n",
              "      <th>Ocorrencia</th>\n",
              "      <th>Ano_Fabricacao</th>\n",
              "    </tr>\n",
              "  </thead>\n",
              "  <tbody>\n",
              "    <tr>\n",
              "      <th>153</th>\n",
              "      <td>40624</td>\n",
              "      <td>0.0</td>\n",
              "    </tr>\n",
              "    <tr>\n",
              "      <th>168</th>\n",
              "      <td>40839</td>\n",
              "      <td>0.0</td>\n",
              "    </tr>\n",
              "    <tr>\n",
              "      <th>177</th>\n",
              "      <td>41155</td>\n",
              "      <td>0.0</td>\n",
              "    </tr>\n",
              "    <tr>\n",
              "      <th>187</th>\n",
              "      <td>41252</td>\n",
              "      <td>0.0</td>\n",
              "    </tr>\n",
              "    <tr>\n",
              "      <th>189</th>\n",
              "      <td>41274</td>\n",
              "      <td>0.0</td>\n",
              "    </tr>\n",
              "  </tbody>\n",
              "</table>\n",
              "</div>"
            ],
            "text/plain": [
              "     Ocorrencia  Ano_Fabricacao\n",
              "153       40624             0.0\n",
              "168       40839             0.0\n",
              "177       41155             0.0\n",
              "187       41252             0.0\n",
              "189       41274             0.0"
            ]
          },
          "execution_count": 20,
          "metadata": {},
          "output_type": "execute_result"
        }
      ],
      "source": [
        "# Identificando algumas linhas que estão com os valores 0.0\n",
        "\n",
        "aeronaves.loc[aeronaves['Ano_Fabricacao'] == 0.0, ['Ocorrencia', 'Ano_Fabricacao']].head()"
      ]
    },
    {
      "cell_type": "code",
      "execution_count": null,
      "metadata": {
        "id": "eHRiSCzkLvHR"
      },
      "outputs": [],
      "source": [
        ""
      ]
    },
    {
      "cell_type": "markdown",
      "metadata": {
        "id": "cFukSM-kLvHR"
      },
      "source": [
        "Como bem visto, a coluna Ano_Fabricacao também apresenta o mesmo problema...\n",
        "\n",
        "Como vou resolver isso? Primeiramente vou começar convertando todos os valores nulos para \"0.0\" zero nas colunas Assentos e Ano_Fabricacao. Farei isso utilizando uma função que aplique este processos de uma vez só em todas as colunas."
      ]
    },
    {
      "cell_type": "code",
      "execution_count": null,
      "metadata": {
        "id": "lswigmCQLvHS"
      },
      "outputs": [],
      "source": [
        "# Converte valores nulos para \"0.0\" zero\n",
        "\n",
        "def convert_na(dataframe, column):\n",
        "    for i in column:\n",
        "        dataframe[i].fillna(0.0, inplace = True)\n",
        "\n",
        "convert_na(aeronaves,['Assentos','Ano_Fabricacao'])"
      ]
    },
    {
      "cell_type": "code",
      "execution_count": null,
      "metadata": {
        "id": "OVpiT9ObLvHS",
        "outputId": "aa7faf0c-b98a-4375-cd3c-a2896e9165d0"
      },
      "outputs": [
        {
          "data": {
            "text/html": [
              "<div>\n",
              "<style scoped>\n",
              "    .dataframe tbody tr th:only-of-type {\n",
              "        vertical-align: middle;\n",
              "    }\n",
              "\n",
              "    .dataframe tbody tr th {\n",
              "        vertical-align: top;\n",
              "    }\n",
              "\n",
              "    .dataframe thead th {\n",
              "        text-align: right;\n",
              "    }\n",
              "</style>\n",
              "<table border=\"1\" class=\"dataframe\">\n",
              "  <thead>\n",
              "    <tr style=\"text-align: right;\">\n",
              "      <th></th>\n",
              "      <th>Ocorrencia</th>\n",
              "      <th>Matricula</th>\n",
              "      <th>Categoria</th>\n",
              "      <th>Aeronave</th>\n",
              "      <th>Fabricante</th>\n",
              "      <th>Modelo</th>\n",
              "      <th>Motor</th>\n",
              "      <th>Qnt_Motores</th>\n",
              "      <th>Assentos</th>\n",
              "      <th>Ano_Fabricacao</th>\n",
              "      <th>Fase_Operacao</th>\n",
              "      <th>Dano</th>\n",
              "      <th>Fatalidades</th>\n",
              "    </tr>\n",
              "  </thead>\n",
              "  <tbody>\n",
              "  </tbody>\n",
              "</table>\n",
              "</div>"
            ],
            "text/plain": [
              "Empty DataFrame\n",
              "Columns: [Ocorrencia, Matricula, Categoria, Aeronave, Fabricante, Modelo, Motor, Qnt_Motores, Assentos, Ano_Fabricacao, Fase_Operacao, Dano, Fatalidades]\n",
              "Index: []"
            ]
          },
          "execution_count": 22,
          "metadata": {},
          "output_type": "execute_result"
        }
      ],
      "source": [
        "aeronaves[aeronaves.isnull().any(axis=1)].head(3)"
      ]
    },
    {
      "cell_type": "markdown",
      "metadata": {
        "id": "dF8suScULvHT"
      },
      "source": [
        "Agora que os valores estão convertidos, chegou a hora de reaplicar o código que tentei acima. Ele vai alterar o tipo de cada uma das colunas!"
      ]
    },
    {
      "cell_type": "code",
      "execution_count": null,
      "metadata": {
        "id": "TZ1pziwZLvHT"
      },
      "outputs": [],
      "source": [
        "# Convertendo os tipos das colunas\n",
        "\n",
        "aeronaves['Assentos'] = aeronaves.Assentos.astype('int64')\n",
        "\n",
        "aeronaves['Ano_Fabricacao'] = aeronaves.Ano_Fabricacao.astype('int64')"
      ]
    },
    {
      "cell_type": "code",
      "execution_count": null,
      "metadata": {
        "id": "IlLfX-v8LvHU"
      },
      "outputs": [],
      "source": [
        "# Convertendo os tipos das colunas\n",
        "\n",
        "aeronaves['Assentos'] = aeronaves.Assentos.astype('str')\n",
        "\n",
        "aeronaves['Ano_Fabricacao'] = aeronaves.Ano_Fabricacao.astype('str')"
      ]
    },
    {
      "cell_type": "code",
      "execution_count": null,
      "metadata": {
        "id": "YYG7GOuJLvHU"
      },
      "outputs": [],
      "source": [
        "aeronaves.dtypes"
      ]
    },
    {
      "cell_type": "code",
      "source": [
        "Ocorrencia         int64\n",
        "Matricula         object\n",
        "Categoria         object\n",
        "Aeronave          object\n",
        "Fabricante        object\n",
        "Modelo            object\n",
        "Motor             object\n",
        "Qnt_Motores       object\n",
        "Assentos          object\n",
        "Ano_Fabricacao    object\n",
        "Fase_Operacao     object\n",
        "Dano              object\n",
        "Fatalidades        int64\n",
        "dtype: object"
      ],
      "metadata": {
        "colab": {
          "base_uri": "https://localhost:8080/",
          "height": 130
        },
        "id": "xVFnH9qTL7oR",
        "outputId": "918e9411-7525-4b16-ef53-efa3b2493a10"
      },
      "execution_count": 1,
      "outputs": [
        {
          "output_type": "error",
          "ename": "SyntaxError",
          "evalue": "ignored",
          "traceback": [
            "\u001b[0;36m  File \u001b[0;32m\"<ipython-input-1-4b55bb1f168c>\"\u001b[0;36m, line \u001b[0;32m1\u001b[0m\n\u001b[0;31m    Ocorrencia         int64\u001b[0m\n\u001b[0m                           ^\u001b[0m\n\u001b[0;31mSyntaxError\u001b[0m\u001b[0;31m:\u001b[0m invalid syntax\n"
          ]
        }
      ]
    },
    {
      "cell_type": "markdown",
      "metadata": {
        "id": "DZoOQseQLvHV"
      },
      "source": [
        "Vou trocar os valores de 0.0 da coluna Assentos e Ano_Fabricacao por \"NÃO INFORMADO\""
      ]
    },
    {
      "cell_type": "code",
      "execution_count": null,
      "metadata": {
        "id": "V7zzHnLtLvHV"
      },
      "outputs": [],
      "source": [
        "# Trocando os valores 0 por NÃO INFORMADOS\n",
        "\n",
        "aeronaves['Assentos'] = aeronaves['Assentos'].replace(['0'], 'NÃO INFORMADO')\n",
        "\n",
        "aeronaves['Ano_Fabricacao'] = aeronaves['Ano_Fabricacao'].replace(['0'], 'NÃO INFORMADO')"
      ]
    },
    {
      "cell_type": "markdown",
      "metadata": {
        "id": "Yn6MpG3dLvHW"
      },
      "source": [
        "Não posso esquecer também da coluna Hora do Dataset ocorrencias!\n",
        "\n",
        "Vou fazer a alteração de valores nulos apenas por um espaço vazio, ' '."
      ]
    },
    {
      "cell_type": "code",
      "execution_count": null,
      "metadata": {
        "id": "J9YgiLYYLvHW"
      },
      "outputs": [],
      "source": [
        "# ocorrencias['Hora'].fillna(' ', inplace=True)\n",
        "\n",
        "# Usando uma função para se aplicar em várias colunas se fosse o caso:\n",
        "\n",
        "def convert_na(dataframe, column):\n",
        "    for i in column:\n",
        "        dataframe[i].fillna(' ', inplace = True)\n",
        "\n",
        "convert_na(ocorrencias,['Hora'])"
      ]
    },
    {
      "cell_type": "markdown",
      "metadata": {
        "id": "utkpEyNJLvHX"
      },
      "source": [
        "Com todas as alterações feitas, vou verififcar novamente a existência de valores missing nos dados!"
      ]
    },
    {
      "cell_type": "code",
      "execution_count": null,
      "metadata": {
        "id": "TWelAczhLvHX",
        "outputId": "494465b2-7d3a-4f0a-e929-326fdcb7afc2"
      },
      "outputs": [
        {
          "name": "stdout",
          "output_type": "stream",
          "text": [
            "0\n",
            "0\n"
          ]
        }
      ],
      "source": [
        "# Verificando a quantidade de valores nulos após o processamento\n",
        "\n",
        "print(aeronaves.isnull().sum().sum())\n",
        "print(ocorrencias.isnull().sum().sum())"
      ]
    },
    {
      "cell_type": "code",
      "execution_count": null,
      "metadata": {
        "id": "vBifT8iRLvHY"
      },
      "outputs": [],
      "source": [
        ""
      ]
    },
    {
      "cell_type": "markdown",
      "metadata": {
        "id": "yV15883YLvHY"
      },
      "source": [
        "Ao que parece tudo está certo! Porém se eu puxar mais linhas dos datasets é fácil de se encontrar valores do tipo \"***\" nos campos de colunas.\n",
        "\n",
        "Isso pode ser deixado ou transformado e irei fazer isso dentro do Power BI."
      ]
    },
    {
      "cell_type": "code",
      "execution_count": null,
      "metadata": {
        "id": "Q31wxr2CLvHY",
        "outputId": "d22494fb-437c-49ae-bc51-2b83537a0581"
      },
      "outputs": [
        {
          "data": {
            "text/html": [
              "<div>\n",
              "<style scoped>\n",
              "    .dataframe tbody tr th:only-of-type {\n",
              "        vertical-align: middle;\n",
              "    }\n",
              "\n",
              "    .dataframe tbody tr th {\n",
              "        vertical-align: top;\n",
              "    }\n",
              "\n",
              "    .dataframe thead th {\n",
              "        text-align: right;\n",
              "    }\n",
              "</style>\n",
              "<table border=\"1\" class=\"dataframe\">\n",
              "  <thead>\n",
              "    <tr style=\"text-align: right;\">\n",
              "      <th></th>\n",
              "      <th>Ocorrencia</th>\n",
              "      <th>Matricula</th>\n",
              "      <th>Categoria</th>\n",
              "      <th>Aeronave</th>\n",
              "      <th>Fabricante</th>\n",
              "      <th>Modelo</th>\n",
              "      <th>Motor</th>\n",
              "      <th>Qnt_Motores</th>\n",
              "      <th>Assentos</th>\n",
              "      <th>Ano_Fabricacao</th>\n",
              "      <th>Fase_Operacao</th>\n",
              "      <th>Dano</th>\n",
              "      <th>Fatalidades</th>\n",
              "    </tr>\n",
              "  </thead>\n",
              "  <tbody>\n",
              "    <tr>\n",
              "      <th>0</th>\n",
              "      <td>39115</td>\n",
              "      <td>PTNQX</td>\n",
              "      <td>PARTICULAR</td>\n",
              "      <td>AVIÃO</td>\n",
              "      <td>NEIVA INDUSTRIA AERONAUTICA</td>\n",
              "      <td>EMB-711A</td>\n",
              "      <td>PISTÃO</td>\n",
              "      <td>MONOMOTOR</td>\n",
              "      <td>4</td>\n",
              "      <td>1979</td>\n",
              "      <td>DECOLAGEM</td>\n",
              "      <td>SUBSTANCIAL</td>\n",
              "      <td>0</td>\n",
              "    </tr>\n",
              "    <tr>\n",
              "      <th>1</th>\n",
              "      <td>39155</td>\n",
              "      <td>PTLVI</td>\n",
              "      <td>PARTICULAR</td>\n",
              "      <td>AVIÃO</td>\n",
              "      <td>BEECH AIRCRAFT</td>\n",
              "      <td>C90</td>\n",
              "      <td>TURBOÉLICE</td>\n",
              "      <td>BIMOTOR</td>\n",
              "      <td>8</td>\n",
              "      <td>1979</td>\n",
              "      <td>DECOLAGEM</td>\n",
              "      <td>NENHUM</td>\n",
              "      <td>0</td>\n",
              "    </tr>\n",
              "    <tr>\n",
              "      <th>2</th>\n",
              "      <td>39156</td>\n",
              "      <td>PPPTO</td>\n",
              "      <td>REGULAR</td>\n",
              "      <td>AVIÃO</td>\n",
              "      <td>AEROSPATIALE AND ALENIA</td>\n",
              "      <td>ATR-72-212A</td>\n",
              "      <td>TURBOÉLICE</td>\n",
              "      <td>BIMOTOR</td>\n",
              "      <td>73</td>\n",
              "      <td>2008</td>\n",
              "      <td>ARREMETIDA NO AR</td>\n",
              "      <td>LEVE</td>\n",
              "      <td>0</td>\n",
              "    </tr>\n",
              "    <tr>\n",
              "      <th>3</th>\n",
              "      <td>39158</td>\n",
              "      <td>PRLGJ</td>\n",
              "      <td>REGULAR</td>\n",
              "      <td>AVIÃO</td>\n",
              "      <td>BOEING COMPANY</td>\n",
              "      <td>757-225</td>\n",
              "      <td>JATO</td>\n",
              "      <td>BIMOTOR</td>\n",
              "      <td>5</td>\n",
              "      <td>1984</td>\n",
              "      <td>SUBIDA</td>\n",
              "      <td>NENHUM</td>\n",
              "      <td>0</td>\n",
              "    </tr>\n",
              "    <tr>\n",
              "      <th>4</th>\n",
              "      <td>39176</td>\n",
              "      <td>PRMAA</td>\n",
              "      <td>REGULAR</td>\n",
              "      <td>AVIÃO</td>\n",
              "      <td>AIRBUS INDUSTRIE</td>\n",
              "      <td>A320-232</td>\n",
              "      <td>JATO</td>\n",
              "      <td>BIMOTOR</td>\n",
              "      <td>184</td>\n",
              "      <td>2001</td>\n",
              "      <td>SUBIDA</td>\n",
              "      <td>NENHUM</td>\n",
              "      <td>0</td>\n",
              "    </tr>\n",
              "    <tr>\n",
              "      <th>5</th>\n",
              "      <td>39178</td>\n",
              "      <td>PTMZU</td>\n",
              "      <td>REGULAR</td>\n",
              "      <td>AVIÃO</td>\n",
              "      <td>AIRBUS INDUSTRIE</td>\n",
              "      <td>A320-232</td>\n",
              "      <td>JATO</td>\n",
              "      <td>BIMOTOR</td>\n",
              "      <td>184</td>\n",
              "      <td>2001</td>\n",
              "      <td>SUBIDA</td>\n",
              "      <td>NENHUM</td>\n",
              "      <td>0</td>\n",
              "    </tr>\n",
              "    <tr>\n",
              "      <th>6</th>\n",
              "      <td>39235</td>\n",
              "      <td>PTWKN</td>\n",
              "      <td>AGRÍCOLA</td>\n",
              "      <td>AVIÃO</td>\n",
              "      <td>CESSNA AIRCRAFT</td>\n",
              "      <td>A188B</td>\n",
              "      <td>PISTÃO</td>\n",
              "      <td>MONOMOTOR</td>\n",
              "      <td>1</td>\n",
              "      <td>1976</td>\n",
              "      <td>DECOLAGEM</td>\n",
              "      <td>DESTRUÍDA</td>\n",
              "      <td>1</td>\n",
              "    </tr>\n",
              "    <tr>\n",
              "      <th>7</th>\n",
              "      <td>39275</td>\n",
              "      <td>PTYRE</td>\n",
              "      <td>PARTICULAR</td>\n",
              "      <td>HELICÓPTERO</td>\n",
              "      <td>EUROCOPTER FRANCE</td>\n",
              "      <td>AS 350 BA</td>\n",
              "      <td>TURBOEIXO</td>\n",
              "      <td>MONOMOTOR</td>\n",
              "      <td>6</td>\n",
              "      <td>1994</td>\n",
              "      <td>CRUZEIRO</td>\n",
              "      <td>DESTRUÍDA</td>\n",
              "      <td>1</td>\n",
              "    </tr>\n",
              "    <tr>\n",
              "      <th>8</th>\n",
              "      <td>39295</td>\n",
              "      <td>PUFLK</td>\n",
              "      <td>EXPERIMENTAL</td>\n",
              "      <td>ULTRALEVE</td>\n",
              "      <td>***</td>\n",
              "      <td>RV-9</td>\n",
              "      <td>PISTÃO</td>\n",
              "      <td>MONOMOTOR</td>\n",
              "      <td>2</td>\n",
              "      <td>2004</td>\n",
              "      <td>APROXIMAÇÃO FINAL</td>\n",
              "      <td>SUBSTANCIAL</td>\n",
              "      <td>2</td>\n",
              "    </tr>\n",
              "    <tr>\n",
              "      <th>9</th>\n",
              "      <td>39315</td>\n",
              "      <td>PTHLE</td>\n",
              "      <td>TÁXI AÉREO</td>\n",
              "      <td>HELICÓPTERO</td>\n",
              "      <td>HELIBRAS</td>\n",
              "      <td>HB-350B</td>\n",
              "      <td>TURBOEIXO</td>\n",
              "      <td>MONOMOTOR</td>\n",
              "      <td>6</td>\n",
              "      <td>1981</td>\n",
              "      <td>CRUZEIRO</td>\n",
              "      <td>***</td>\n",
              "      <td>2</td>\n",
              "    </tr>\n",
              "    <tr>\n",
              "      <th>10</th>\n",
              "      <td>39316</td>\n",
              "      <td>PPGMH</td>\n",
              "      <td>INSTRUÇÃO</td>\n",
              "      <td>AVIÃO</td>\n",
              "      <td>AERO BOERO</td>\n",
              "      <td>AB-115</td>\n",
              "      <td>PISTÃO</td>\n",
              "      <td>MONOMOTOR</td>\n",
              "      <td>2</td>\n",
              "      <td>1992</td>\n",
              "      <td>POUSO</td>\n",
              "      <td>SUBSTANCIAL</td>\n",
              "      <td>0</td>\n",
              "    </tr>\n",
              "    <tr>\n",
              "      <th>11</th>\n",
              "      <td>39317</td>\n",
              "      <td>PPGOB</td>\n",
              "      <td>INSTRUÇÃO</td>\n",
              "      <td>AVIÃO</td>\n",
              "      <td>AERO BOERO</td>\n",
              "      <td>AB-115</td>\n",
              "      <td>PISTÃO</td>\n",
              "      <td>MONOMOTOR</td>\n",
              "      <td>2</td>\n",
              "      <td>1993</td>\n",
              "      <td>POUSO</td>\n",
              "      <td>SUBSTANCIAL</td>\n",
              "      <td>0</td>\n",
              "    </tr>\n",
              "    <tr>\n",
              "      <th>12</th>\n",
              "      <td>39318</td>\n",
              "      <td>PTTAF</td>\n",
              "      <td>TÁXI AÉREO</td>\n",
              "      <td>AVIÃO</td>\n",
              "      <td>EMBRAER</td>\n",
              "      <td>EMB-110</td>\n",
              "      <td>TURBOÉLICE</td>\n",
              "      <td>BIMOTOR</td>\n",
              "      <td>1</td>\n",
              "      <td>1976</td>\n",
              "      <td>DESCIDA</td>\n",
              "      <td>SUBSTANCIAL</td>\n",
              "      <td>2</td>\n",
              "    </tr>\n",
              "    <tr>\n",
              "      <th>13</th>\n",
              "      <td>39319</td>\n",
              "      <td>PRUGO</td>\n",
              "      <td>PARTICULAR</td>\n",
              "      <td>AVIÃO</td>\n",
              "      <td>EMBRAER</td>\n",
              "      <td>EMB-810C</td>\n",
              "      <td>PISTÃO</td>\n",
              "      <td>BIMOTOR</td>\n",
              "      <td>6</td>\n",
              "      <td>1981</td>\n",
              "      <td>SUBIDA</td>\n",
              "      <td>DESTRUÍDA</td>\n",
              "      <td>2</td>\n",
              "    </tr>\n",
              "    <tr>\n",
              "      <th>14</th>\n",
              "      <td>39320</td>\n",
              "      <td>PTFNI</td>\n",
              "      <td>AGRÍCOLA</td>\n",
              "      <td>AVIÃO</td>\n",
              "      <td>CESSNA AIRCRAFT</td>\n",
              "      <td>A188B</td>\n",
              "      <td>PISTÃO</td>\n",
              "      <td>MONOMOTOR</td>\n",
              "      <td>1</td>\n",
              "      <td>1977</td>\n",
              "      <td>DECOLAGEM</td>\n",
              "      <td>SUBSTANCIAL</td>\n",
              "      <td>0</td>\n",
              "    </tr>\n",
              "    <tr>\n",
              "      <th>15</th>\n",
              "      <td>39321</td>\n",
              "      <td>PTOHL</td>\n",
              "      <td>PARTICULAR</td>\n",
              "      <td>AVIÃO</td>\n",
              "      <td>CESSNA AIRCRAFT</td>\n",
              "      <td>210N</td>\n",
              "      <td>PISTÃO</td>\n",
              "      <td>MONOMOTOR</td>\n",
              "      <td>6</td>\n",
              "      <td>1981</td>\n",
              "      <td>POUSO</td>\n",
              "      <td>DESTRUÍDA</td>\n",
              "      <td>1</td>\n",
              "    </tr>\n",
              "    <tr>\n",
              "      <th>16</th>\n",
              "      <td>39322</td>\n",
              "      <td>PTYSG</td>\n",
              "      <td>ESPECIALIZADA</td>\n",
              "      <td>HELICÓPTERO</td>\n",
              "      <td>ROBINSON HELICOPTER</td>\n",
              "      <td>R44</td>\n",
              "      <td>PISTÃO</td>\n",
              "      <td>MONOMOTOR</td>\n",
              "      <td>4</td>\n",
              "      <td>1997</td>\n",
              "      <td>DECOLAGEM</td>\n",
              "      <td>SUBSTANCIAL</td>\n",
              "      <td>0</td>\n",
              "    </tr>\n",
              "    <tr>\n",
              "      <th>17</th>\n",
              "      <td>39323</td>\n",
              "      <td>PUMEL</td>\n",
              "      <td>EXPERIMENTAL</td>\n",
              "      <td>ULTRALEVE</td>\n",
              "      <td>***</td>\n",
              "      <td>MISTRAL 582C</td>\n",
              "      <td>PISTÃO</td>\n",
              "      <td>MONOMOTOR</td>\n",
              "      <td>2</td>\n",
              "      <td>2000</td>\n",
              "      <td>SUBIDA</td>\n",
              "      <td>SUBSTANCIAL</td>\n",
              "      <td>1</td>\n",
              "    </tr>\n",
              "    <tr>\n",
              "      <th>18</th>\n",
              "      <td>39365</td>\n",
              "      <td>PRMAA</td>\n",
              "      <td>REGULAR</td>\n",
              "      <td>AVIÃO</td>\n",
              "      <td>AIRBUS INDUSTRIE</td>\n",
              "      <td>A320-232</td>\n",
              "      <td>JATO</td>\n",
              "      <td>BIMOTOR</td>\n",
              "      <td>184</td>\n",
              "      <td>2001</td>\n",
              "      <td>DECOLAGEM</td>\n",
              "      <td>***</td>\n",
              "      <td>0</td>\n",
              "    </tr>\n",
              "    <tr>\n",
              "      <th>19</th>\n",
              "      <td>39367</td>\n",
              "      <td>PPGLS</td>\n",
              "      <td>INSTRUÇÃO</td>\n",
              "      <td>AVIÃO</td>\n",
              "      <td>AERO BOERO</td>\n",
              "      <td>AB-115</td>\n",
              "      <td>PISTÃO</td>\n",
              "      <td>MONOMOTOR</td>\n",
              "      <td>3</td>\n",
              "      <td>1992</td>\n",
              "      <td>CORRIDA APÓS POUSO</td>\n",
              "      <td>LEVE</td>\n",
              "      <td>0</td>\n",
              "    </tr>\n",
              "  </tbody>\n",
              "</table>\n",
              "</div>"
            ],
            "text/plain": [
              "    Ocorrencia Matricula      Categoria     Aeronave  \\\n",
              "0        39115     PTNQX     PARTICULAR        AVIÃO   \n",
              "1        39155     PTLVI     PARTICULAR        AVIÃO   \n",
              "2        39156     PPPTO        REGULAR        AVIÃO   \n",
              "3        39158     PRLGJ        REGULAR        AVIÃO   \n",
              "4        39176     PRMAA        REGULAR        AVIÃO   \n",
              "5        39178     PTMZU        REGULAR        AVIÃO   \n",
              "6        39235     PTWKN       AGRÍCOLA        AVIÃO   \n",
              "7        39275     PTYRE     PARTICULAR  HELICÓPTERO   \n",
              "8        39295     PUFLK   EXPERIMENTAL    ULTRALEVE   \n",
              "9        39315     PTHLE     TÁXI AÉREO  HELICÓPTERO   \n",
              "10       39316     PPGMH      INSTRUÇÃO        AVIÃO   \n",
              "11       39317     PPGOB      INSTRUÇÃO        AVIÃO   \n",
              "12       39318     PTTAF     TÁXI AÉREO        AVIÃO   \n",
              "13       39319     PRUGO     PARTICULAR        AVIÃO   \n",
              "14       39320     PTFNI       AGRÍCOLA        AVIÃO   \n",
              "15       39321     PTOHL     PARTICULAR        AVIÃO   \n",
              "16       39322     PTYSG  ESPECIALIZADA  HELICÓPTERO   \n",
              "17       39323     PUMEL   EXPERIMENTAL    ULTRALEVE   \n",
              "18       39365     PRMAA        REGULAR        AVIÃO   \n",
              "19       39367     PPGLS      INSTRUÇÃO        AVIÃO   \n",
              "\n",
              "                     Fabricante        Modelo       Motor Qnt_Motores  \\\n",
              "0   NEIVA INDUSTRIA AERONAUTICA      EMB-711A      PISTÃO   MONOMOTOR   \n",
              "1                BEECH AIRCRAFT           C90  TURBOÉLICE     BIMOTOR   \n",
              "2       AEROSPATIALE AND ALENIA   ATR-72-212A  TURBOÉLICE     BIMOTOR   \n",
              "3                BOEING COMPANY       757-225        JATO     BIMOTOR   \n",
              "4              AIRBUS INDUSTRIE      A320-232        JATO     BIMOTOR   \n",
              "5              AIRBUS INDUSTRIE      A320-232        JATO     BIMOTOR   \n",
              "6               CESSNA AIRCRAFT         A188B      PISTÃO   MONOMOTOR   \n",
              "7             EUROCOPTER FRANCE     AS 350 BA   TURBOEIXO   MONOMOTOR   \n",
              "8                           ***          RV-9      PISTÃO   MONOMOTOR   \n",
              "9                      HELIBRAS       HB-350B   TURBOEIXO   MONOMOTOR   \n",
              "10                   AERO BOERO        AB-115      PISTÃO   MONOMOTOR   \n",
              "11                   AERO BOERO        AB-115      PISTÃO   MONOMOTOR   \n",
              "12                      EMBRAER       EMB-110  TURBOÉLICE     BIMOTOR   \n",
              "13                      EMBRAER      EMB-810C      PISTÃO     BIMOTOR   \n",
              "14              CESSNA AIRCRAFT         A188B      PISTÃO   MONOMOTOR   \n",
              "15              CESSNA AIRCRAFT          210N      PISTÃO   MONOMOTOR   \n",
              "16          ROBINSON HELICOPTER           R44      PISTÃO   MONOMOTOR   \n",
              "17                          ***  MISTRAL 582C      PISTÃO   MONOMOTOR   \n",
              "18             AIRBUS INDUSTRIE      A320-232        JATO     BIMOTOR   \n",
              "19                   AERO BOERO        AB-115      PISTÃO   MONOMOTOR   \n",
              "\n",
              "   Assentos Ano_Fabricacao       Fase_Operacao         Dano  Fatalidades  \n",
              "0         4           1979           DECOLAGEM  SUBSTANCIAL            0  \n",
              "1         8           1979           DECOLAGEM       NENHUM            0  \n",
              "2        73           2008    ARREMETIDA NO AR         LEVE            0  \n",
              "3         5           1984              SUBIDA       NENHUM            0  \n",
              "4       184           2001              SUBIDA       NENHUM            0  \n",
              "5       184           2001              SUBIDA       NENHUM            0  \n",
              "6         1           1976           DECOLAGEM    DESTRUÍDA            1  \n",
              "7         6           1994            CRUZEIRO    DESTRUÍDA            1  \n",
              "8         2           2004   APROXIMAÇÃO FINAL  SUBSTANCIAL            2  \n",
              "9         6           1981            CRUZEIRO          ***            2  \n",
              "10        2           1992               POUSO  SUBSTANCIAL            0  \n",
              "11        2           1993               POUSO  SUBSTANCIAL            0  \n",
              "12        1           1976             DESCIDA  SUBSTANCIAL            2  \n",
              "13        6           1981              SUBIDA    DESTRUÍDA            2  \n",
              "14        1           1977           DECOLAGEM  SUBSTANCIAL            0  \n",
              "15        6           1981               POUSO    DESTRUÍDA            1  \n",
              "16        4           1997           DECOLAGEM  SUBSTANCIAL            0  \n",
              "17        2           2000              SUBIDA  SUBSTANCIAL            1  \n",
              "18      184           2001           DECOLAGEM          ***            0  \n",
              "19        3           1992  CORRIDA APÓS POUSO         LEVE            0  "
            ]
          },
          "execution_count": 29,
          "metadata": {},
          "output_type": "execute_result"
        }
      ],
      "source": [
        "# Retornando algumas linhas com esses valores\n",
        "\n",
        "aeronaves.head(20)"
      ]
    },
    {
      "cell_type": "code",
      "execution_count": null,
      "metadata": {
        "id": "H0ylAgr0LvHZ"
      },
      "outputs": [],
      "source": [
        ""
      ]
    },
    {
      "cell_type": "markdown",
      "metadata": {
        "id": "pywLSbwgLvHZ"
      },
      "source": [
        "Agora chegou a hora de salvaros arquivos já processados e aplicá-los no Power BI.\n",
        "\n",
        "Antes de fazer isso, vou adicionar uma coluna de contagem para cada um dos datasets. Isso vai me ajudar nas visualizações."
      ]
    },
    {
      "cell_type": "code",
      "execution_count": null,
      "metadata": {
        "id": "Wf0P1rF0LvHa"
      },
      "outputs": [],
      "source": [
        "# Adicionando uma coluna contagem\n",
        "\n",
        "aeronaves['Contagem'] = 1\n",
        "ocorrencias['Contagem'] = 1\n",
        "fatores['Contagem'] = 1"
      ]
    },
    {
      "cell_type": "markdown",
      "metadata": {
        "id": "_gRXOxj7LvHa"
      },
      "source": [
        "Em seguida também vou adicionar uma nova coluna no Dataset ocorrencias, essa coluna será referente a região brasileira onde a ocorrência aconteceu e irei fazer ela baseada na coluna UF."
      ]
    },
    {
      "cell_type": "code",
      "execution_count": null,
      "metadata": {
        "id": "fyAF1RMILvHa",
        "outputId": "82adcfb4-4e55-4e2a-b115-fc4cebbe89f1"
      },
      "outputs": [
        {
          "name": "stdout",
          "output_type": "stream",
          "text": [
            "['NORDESTE', 'SUDESTE', 'SUL', 'NORTE', 'NORDESTE', 'SUDESTE', 'CENTRO-OESTE', 'SUDESTE', 'SUDESTE', 'NORTE']\n",
            "5245\n"
          ]
        }
      ],
      "source": [
        "norte = ['AC', 'AP', 'AM', 'PA', 'RO', 'RR', 'TO']\n",
        "\n",
        "nordeste = ['AL', 'BA', 'CE', 'MA', 'PB', 'PE', 'PI', 'RN', 'SE']\n",
        "\n",
        "centro_oeste = ['GO', 'MT', 'MS', 'DF']\n",
        "\n",
        "sudeste = ['ES', 'MG', 'RJ', 'SP']\n",
        "\n",
        "sul = ['PR', 'SC', 'RS']\n",
        "\n",
        "regioes = []\n",
        "\n",
        "for x in ocorrencias.UF:\n",
        "    if x in norte:\n",
        "        regioes.append('NORTE')\n",
        "    \n",
        "    if x in nordeste:\n",
        "        regioes.append('NORDESTE')\n",
        "        \n",
        "    if x in centro_oeste:\n",
        "        regioes.append('CENTRO-OESTE')\n",
        "        \n",
        "    if x in sudeste:\n",
        "        regioes.append('SUDESTE')\n",
        "        \n",
        "    if x in sul:\n",
        "        regioes.append('SUL')\n",
        "        \n",
        "    if x == '***':\n",
        "        regioes.append('***')\n",
        "        \n",
        "print(regioes[0:10])\n",
        "print(len(regioes))"
      ]
    },
    {
      "cell_type": "code",
      "execution_count": null,
      "metadata": {
        "id": "2jFuAnGdLvHb",
        "outputId": "963387d7-3cf0-4db5-9b1c-4a6a7fa860fa"
      },
      "outputs": [
        {
          "data": {
            "text/html": [
              "<div>\n",
              "<style scoped>\n",
              "    .dataframe tbody tr th:only-of-type {\n",
              "        vertical-align: middle;\n",
              "    }\n",
              "\n",
              "    .dataframe tbody tr th {\n",
              "        vertical-align: top;\n",
              "    }\n",
              "\n",
              "    .dataframe thead th {\n",
              "        text-align: right;\n",
              "    }\n",
              "</style>\n",
              "<table border=\"1\" class=\"dataframe\">\n",
              "  <thead>\n",
              "    <tr style=\"text-align: right;\">\n",
              "      <th></th>\n",
              "      <th>Ocorrencia</th>\n",
              "      <th>Classificacao_ocorrencias</th>\n",
              "      <th>Cidade</th>\n",
              "      <th>UF</th>\n",
              "      <th>Dia</th>\n",
              "      <th>Hora</th>\n",
              "      <th>Total_Recomendacoes</th>\n",
              "      <th>Aeronaves_Envolvidas</th>\n",
              "      <th>Saida_Pista</th>\n",
              "      <th>Contagem</th>\n",
              "      <th>REGIOES</th>\n",
              "    </tr>\n",
              "  </thead>\n",
              "  <tbody>\n",
              "    <tr>\n",
              "      <th>0</th>\n",
              "      <td>39115</td>\n",
              "      <td>ACIDENTE</td>\n",
              "      <td>CORRENTINA</td>\n",
              "      <td>BA</td>\n",
              "      <td>07/02/2010</td>\n",
              "      <td>17:40:00</td>\n",
              "      <td>2</td>\n",
              "      <td>1</td>\n",
              "      <td>NÃO</td>\n",
              "      <td>1</td>\n",
              "      <td>NORDESTE</td>\n",
              "    </tr>\n",
              "    <tr>\n",
              "      <th>1</th>\n",
              "      <td>39155</td>\n",
              "      <td>INCIDENTE</td>\n",
              "      <td>BELO HORIZONTE</td>\n",
              "      <td>MG</td>\n",
              "      <td>05/02/2010</td>\n",
              "      <td>12:55:00</td>\n",
              "      <td>0</td>\n",
              "      <td>1</td>\n",
              "      <td>NÃO</td>\n",
              "      <td>1</td>\n",
              "      <td>SUDESTE</td>\n",
              "    </tr>\n",
              "    <tr>\n",
              "      <th>2</th>\n",
              "      <td>39156</td>\n",
              "      <td>INCIDENTE GRAVE</td>\n",
              "      <td>CASCAVEL</td>\n",
              "      <td>PR</td>\n",
              "      <td>10/01/2010</td>\n",
              "      <td>23:15:00</td>\n",
              "      <td>2</td>\n",
              "      <td>1</td>\n",
              "      <td>NÃO</td>\n",
              "      <td>1</td>\n",
              "      <td>SUL</td>\n",
              "    </tr>\n",
              "    <tr>\n",
              "      <th>3</th>\n",
              "      <td>39158</td>\n",
              "      <td>INCIDENTE</td>\n",
              "      <td>BELÉM</td>\n",
              "      <td>PA</td>\n",
              "      <td>28/01/2010</td>\n",
              "      <td>16:00:00</td>\n",
              "      <td>0</td>\n",
              "      <td>1</td>\n",
              "      <td>NÃO</td>\n",
              "      <td>1</td>\n",
              "      <td>NORTE</td>\n",
              "    </tr>\n",
              "    <tr>\n",
              "      <th>4</th>\n",
              "      <td>39176</td>\n",
              "      <td>INCIDENTE</td>\n",
              "      <td>SÃO LUÍS</td>\n",
              "      <td>MA</td>\n",
              "      <td>05/02/2010</td>\n",
              "      <td>09:30:00</td>\n",
              "      <td>0</td>\n",
              "      <td>1</td>\n",
              "      <td>NÃO</td>\n",
              "      <td>1</td>\n",
              "      <td>NORDESTE</td>\n",
              "    </tr>\n",
              "    <tr>\n",
              "      <th>5</th>\n",
              "      <td>39178</td>\n",
              "      <td>INCIDENTE</td>\n",
              "      <td>CAMPINAS</td>\n",
              "      <td>SP</td>\n",
              "      <td>08/02/2010</td>\n",
              "      <td>12:33:00</td>\n",
              "      <td>0</td>\n",
              "      <td>1</td>\n",
              "      <td>NÃO</td>\n",
              "      <td>1</td>\n",
              "      <td>SUDESTE</td>\n",
              "    </tr>\n",
              "    <tr>\n",
              "      <th>6</th>\n",
              "      <td>39235</td>\n",
              "      <td>ACIDENTE</td>\n",
              "      <td>ITUMBIARA</td>\n",
              "      <td>GO</td>\n",
              "      <td>06/02/2010</td>\n",
              "      <td>17:20:00</td>\n",
              "      <td>3</td>\n",
              "      <td>1</td>\n",
              "      <td>NÃO</td>\n",
              "      <td>1</td>\n",
              "      <td>CENTRO-OESTE</td>\n",
              "    </tr>\n",
              "    <tr>\n",
              "      <th>7</th>\n",
              "      <td>39275</td>\n",
              "      <td>ACIDENTE</td>\n",
              "      <td>SÃO PAULO</td>\n",
              "      <td>SP</td>\n",
              "      <td>10/02/2010</td>\n",
              "      <td>09:03:00</td>\n",
              "      <td>3</td>\n",
              "      <td>1</td>\n",
              "      <td>NÃO</td>\n",
              "      <td>1</td>\n",
              "      <td>SUDESTE</td>\n",
              "    </tr>\n",
              "    <tr>\n",
              "      <th>8</th>\n",
              "      <td>39295</td>\n",
              "      <td>ACIDENTE</td>\n",
              "      <td>RIO DE JANEIRO</td>\n",
              "      <td>RJ</td>\n",
              "      <td>06/02/2010</td>\n",
              "      <td>21:09:00</td>\n",
              "      <td>0</td>\n",
              "      <td>1</td>\n",
              "      <td>NÃO</td>\n",
              "      <td>1</td>\n",
              "      <td>SUDESTE</td>\n",
              "    </tr>\n",
              "    <tr>\n",
              "      <th>9</th>\n",
              "      <td>39315</td>\n",
              "      <td>ACIDENTE</td>\n",
              "      <td>CANUTAMA</td>\n",
              "      <td>AM</td>\n",
              "      <td>15/01/2010</td>\n",
              "      <td>21:22:00</td>\n",
              "      <td>0</td>\n",
              "      <td>1</td>\n",
              "      <td>NÃO</td>\n",
              "      <td>1</td>\n",
              "      <td>NORTE</td>\n",
              "    </tr>\n",
              "  </tbody>\n",
              "</table>\n",
              "</div>"
            ],
            "text/plain": [
              "   Ocorrencia Classificacao_ocorrencias          Cidade  UF         Dia  \\\n",
              "0       39115                  ACIDENTE      CORRENTINA  BA  07/02/2010   \n",
              "1       39155                 INCIDENTE  BELO HORIZONTE  MG  05/02/2010   \n",
              "2       39156           INCIDENTE GRAVE        CASCAVEL  PR  10/01/2010   \n",
              "3       39158                 INCIDENTE           BELÉM  PA  28/01/2010   \n",
              "4       39176                 INCIDENTE        SÃO LUÍS  MA  05/02/2010   \n",
              "5       39178                 INCIDENTE        CAMPINAS  SP  08/02/2010   \n",
              "6       39235                  ACIDENTE       ITUMBIARA  GO  06/02/2010   \n",
              "7       39275                  ACIDENTE       SÃO PAULO  SP  10/02/2010   \n",
              "8       39295                  ACIDENTE  RIO DE JANEIRO  RJ  06/02/2010   \n",
              "9       39315                  ACIDENTE        CANUTAMA  AM  15/01/2010   \n",
              "\n",
              "       Hora  Total_Recomendacoes  Aeronaves_Envolvidas Saida_Pista  Contagem  \\\n",
              "0  17:40:00                    2                     1         NÃO         1   \n",
              "1  12:55:00                    0                     1         NÃO         1   \n",
              "2  23:15:00                    2                     1         NÃO         1   \n",
              "3  16:00:00                    0                     1         NÃO         1   \n",
              "4  09:30:00                    0                     1         NÃO         1   \n",
              "5  12:33:00                    0                     1         NÃO         1   \n",
              "6  17:20:00                    3                     1         NÃO         1   \n",
              "7  09:03:00                    3                     1         NÃO         1   \n",
              "8  21:09:00                    0                     1         NÃO         1   \n",
              "9  21:22:00                    0                     1         NÃO         1   \n",
              "\n",
              "        REGIOES  \n",
              "0      NORDESTE  \n",
              "1       SUDESTE  \n",
              "2           SUL  \n",
              "3         NORTE  \n",
              "4      NORDESTE  \n",
              "5       SUDESTE  \n",
              "6  CENTRO-OESTE  \n",
              "7       SUDESTE  \n",
              "8       SUDESTE  \n",
              "9         NORTE  "
            ]
          },
          "execution_count": 32,
          "metadata": {},
          "output_type": "execute_result"
        }
      ],
      "source": [
        "# Adicionando a nova coluna ao Dataset ocorrencias\n",
        "\n",
        "ocorrencias['REGIOES'] = regioes\n",
        "\n",
        "ocorrencias.head(10)"
      ]
    },
    {
      "cell_type": "code",
      "execution_count": null,
      "metadata": {
        "id": "XP2sL8KELvHc"
      },
      "outputs": [],
      "source": [
        "# Salvando os arquivos\n",
        "\n",
        "aeronaves.to_csv('./Projeto/Dados/aeronaves.csv')\n",
        "ocorrencias.to_csv('./Projeto/Dados/ocorrencias.csv')\n",
        "fatores.to_csv('./Projeto/Dados/fatores.csv')"
      ]
    },
    {
      "cell_type": "markdown",
      "metadata": {
        "id": "23GM4veyLvHy"
      },
      "source": [
        "<h2>Conclusão</h2>"
      ]
    },
    {
      "cell_type": "markdown",
      "metadata": {
        "id": "utN0jBIkLvHy"
      },
      "source": [
        "Com base no que se viu na exploração dos dados, pode-se dizer que o número de ocorrências registradas teve seu pico no ano de 2013 e então a partir daí começou a cair até o ano de 2017. Posteriormente se iniciou uma tendência de maiores ocorrências de acidentes aéreos. As causas para esse aumento não puderam ser investigadas por falta de dados.\n",
        "\n",
        "Os estados brasileiros que mais possuem registros são os estados de São Paulo, Minas Gerais e Rio de Janeiro.\n",
        "\n",
        "As aeronaves mais envolvidas nestas ocorrências são os aviões e os helicópteros.\n",
        "\n",
        "Foi comprovado que o fator humano é o principal influenciador para o acontecimento de acidentes aéreos e os principais erros cometidos são de julgamento de pilotagem, aplicação de comandos, supervisão gerencial, planejamento de voo e de manutenção das aeronaves!\n",
        "\n",
        "Também foi possível identificar que a maioria destes erros acontecem nas fases de pouso, pós ao pouso e também na fase de decolagem."
      ]
    }
  ],
  "metadata": {
    "kernelspec": {
      "display_name": "Python 3",
      "language": "python",
      "name": "python3"
    },
    "language_info": {
      "codemirror_mode": {
        "name": "ipython",
        "version": 3
      },
      "file_extension": ".py",
      "mimetype": "text/x-python",
      "name": "python",
      "nbconvert_exporter": "python",
      "pygments_lexer": "ipython3",
      "version": "3.6.5"
    },
    "colab": {
      "name": "acidentes.ipynb",
      "provenance": [],
      "collapsed_sections": []
    }
  },
  "nbformat": 4,
  "nbformat_minor": 0
}