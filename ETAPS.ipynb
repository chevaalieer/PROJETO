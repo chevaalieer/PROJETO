{
  "nbformat": 4,
  "nbformat_minor": 0,
  "metadata": {
    "colab": {
      "name": "Untitled2.ipynb",
      "provenance": [],
      "collapsed_sections": []
    },
    "kernelspec": {
      "name": "python3",
      "display_name": "Python 3"
    },
    "language_info": {
      "name": "python"
    }
  },
  "cells": [
    {
      "cell_type": "code",
      "execution_count": null,
      "metadata": {
        "id": "7Lr8uXtE2_P0"
      },
      "outputs": [],
      "source": [
        ""
      ]
    },
    {
      "cell_type": "markdown",
      "source": [
        "**PROJETO PLANEJAMENTO EM INFORMATICA**\n",
        "\n",
        "**ETAPA 1: Conceitos** \n",
        "\n",
        "O processo de planejamento, ao contrário de contabilidade, é bastante complexo do ponto de vista metodológico e organizacional.\n",
        "\n",
        "Em princípio, pode-se aderir a esse conceito de planejamento, no qual os planos são elaborados com base em dados estatísticos. Em outras palavras, uma tendência está sendo construída.\n",
        "\n",
        "Nesse caso, o planejamento pode ser totalmente automatizado e implementado por meios puramente técnicos, sem a participação ativa de gerentes e especialistas da empresa.\n",
        "\n",
        "É melhor não aplicar essa abordagem ao planejamento na prática, pois pode levar a consequências negativas muito graves para a empresa. De fato, neste caso, o principal princípio do planejamento é obter o futuro do passado.\n",
        "\n",
        "Mas já se foram os dias de mercados em ascensão \"permanente\", quando era possível aplicar essa abordagem estatística ao planejamento. É por isso que o planejamento de longo prazo foi substituído pelo planejamento estratégico.\n",
        "\n",
        "Este conceito de planejamento não inclui a suposição de que o futuro pode ser obtido do passado construindo uma tendência apropriada, e que o futuro deve necessariamente ser melhor que o passado.\n",
        "\n",
        "A propósito, as suposições feitas no processo de planejamento são um dos elementos-chave do conceito moderno de planejamento.\n",
        "\n",
        "Para a gestão eficaz das empresas, deve ser construído um sistema de planejamento de ponta a ponta: do planejamento estratégico ao orçamento. Ou seja, a elaboração de todos os planos empresariais deve terminar com a sua digitalização e apresentação sob a forma de planos financeiros e económicos (orçamentos).\n",
        "\n",
        "Ao construir um sistema de planejamento, é necessário trabalhar dois aspectos principais:\n",
        "aspecto metodológico do planejamento;\n",
        "aspecto organizacional do planejamento.\n",
        "\n",
        "É muito importante prestar atenção tanto na metodologia quanto na organização do processo de planejamento. Caso contrário, a qualidade dos planos será baixa e, portanto, o grau de gerenciabilidade da empresa será baixo.\n",
        "\n",
        "É possível desenvolver uma metodologia de planejamento muito boa, mas se o procedimento organizacional não for pensado (quem deve fazer o quê, quando), os planos ou não serão elaborados ou sua qualidade será muito baixa.\n",
        "\n",
        "É possível desenvolver um procedimento de planejamento muito bom, mas se a metodologia de planejamento (como fazer) não for pensada, o resultado será aproximadamente o mesmo do caso anterior.\n",
        "\n",
        "Aspecto metodológico do planejamento\n",
        "\n",
        "Portanto, ao desenvolver uma metodologia de planejamento, os seguintes princípios básicos de planejamento devem ser levados em consideração:\n",
        "para elaborar planos, é necessário construir certas premissas (hipóteses);\n",
        "deve haver uma certa relação entre os indicadores planejados.\n",
        "\n",
        "Qualquer empresa é afetada em graus variados por vários fatores limitantes do ambiente externo e interno. Obviamente, eles não podem ser ignorados no processo de planejamento.\n",
        "\n",
        "Tais fatores podem incluir, por exemplo, restrições à capacidade de mercado, restrições à capacidade de produção da empresa, restrições ao espaço de armazenamento, restrições à frota de transporte, etc.\n",
        "\n",
        "Além disso, todos esses fatores limitantes (gargalos) podem afetar a empresa em graus variados, dependendo da época. Em alguns meses, o primeiro fator limitante pode ser o mercado, em outros, por exemplo, a capacidade de produção.\n",
        "\n",
        "É preciso planejar a atuação da empresa a partir de gargalos, ou seja, levar em consideração qual fator limita a empresa em primeiro lugar, qual em segundo, etc.\n",
        "\n",
        "Assim, para melhorar a qualidade do planejamento, é preciso aprender a identificar todos os fatores que afetam significativamente as atividades da empresa, bem como fazer suposições (hipóteses) sobre como exatamente eles afetarão o período de planejamento.\n",
        "\n",
        "Além de fatores e hipóteses, padrões e restrições (limites) podem ser utilizados para o planejamento. Padrões são os valores exatos de certos parâmetros de planos. Por exemplo, a taxa de consumo de matérias-primas para a produção de uma unidade de produção, o padrão para estoques de produtos acabados, o padrão para estoques de materiais, o padrão para consumo de combustível etc.\n",
        "\n",
        "As restrições fixam o valor limite (superior ou inferior) de determinados parâmetros do plano. Por exemplo, o lucro da empresa pode ser limitado por baixo e os custos fixos condicionalmente por cima.\n",
        "\n",
        "Ou seja, os padrões são levados em consideração ao construir relacionamentos entre indicadores planejados, e restrições (limites) são usadas para verificar os valores obtidos de indicadores não padronizados. Por exemplo, os custos semifixos mencionados acima podem ser limitados tanto para a empresa como um todo quanto para cada divisão.\n",
        "\n",
        "O segundo princípio de planejamento mais importante é o desenvolvimento de um sistema de indicadores inter-relacionados. Isso significa que ao construir planos, a empresa deve contar com uma determinada relação de indicadores . Existe uma sequência/lógica para a construção de planos e orçamentos da empresa.\n",
        "\n",
        "Tal sistema de indicadores inter-relacionados permitirá calcular todos os indicadores financeiros e econômicos finais da empresa, que devem constar nos orçamentos financeiros.\n",
        "\n",
        "Além disso, pode ser usado para realizar análises de cenários dos planos e orçamentos desenvolvidos. Ou seja, alterando os valores dos parâmetros de entrada, você pode ver como todos os principais indicadores de desempenho da empresa mudarão.\n",
        "\n",
        "**Aspecto organizacional do planejamento**\n",
        "\n",
        "Ao desenvolver um procedimento de planejamento organizacional, os seguintes princípios básicos de planejamento devem ser considerados:\n",
        "o princípio do planejamento descentralizado;\n",
        "uso simultâneo dos princípios de \"top-down\" e \"bottom-up\".\n",
        "\n",
        "Ao planejar, você precisa aderir ao princípio da descentralização. Isso significa que quem faz/organiza o trabalho deve planejar. A tarefa do serviço financeiro e económico é organizar o processo de recolha de informação, verificar e realizar a consolidação dos orçamentos (mais precisamente, realizar a sua verificação).\n",
        "\n",
        "Ou seja, não deveria existir tal coisa quando o serviço financeiro e económico elabora todos os planos para todos e depois apresenta tudo isso sob a forma de orçamentos. Essa abordagem centralizada de planejamento não levará a nada de bom.\n",
        "\n",
        "Em primeiro lugar, o serviço econômico-financeiro pode não conhecer algumas nuances das atividades das unidades no período de planejamento.\n",
        "\n",
        "Em segundo lugar, não apenas um serviço financeiro e econômico deve ser responsável pela execução dos orçamentos, mas cada divisão que influencie determinados indicadores planejados.\n",
        "\n",
        "Ao organizar o procedimento de planejamento, é necessário combinar duas abordagens opostas ao planejamento: \"top-down\" e \"bottom-up\".\n",
        "\n",
        "No primeiro caso, os valores dos indicadores planejados são simplesmente direcionados de cima para baixo e as subdivisões praticamente não participam do planejamento.\n",
        "\n",
        "No segundo caso, ao contrário, o planejamento é realizado a partir do nível mais baixo e não há controle de cima. Ou seja, as informações são coletadas das divisões, consolidadas e apresentadas aos gestores e proprietários quase como o único cenário possível para o desenvolvimento dos eventos.\n",
        "\n",
        "Assim, em ambas as abordagens, a única versão do plano é formada sem qualquer justificativa clara. Todas as desvantagens de ambas as abordagens são óbvias.\n",
        "\n",
        "Embora também tenham vantagens. No primeiro caso, os proprietários e gerentes da empresa participam ativamente do planejamento e, no segundo caso, as divisões.\n",
        "\n",
        "Para tirar os prós de ambas as opções e minimizar os contras, você pode aplicar uma abordagem combinada, ou seja, usar simultaneamente os princípios \"top-down\" e \"bottom-up\"\n",
        "\n",
        "**5W2H**\n",
        "\n",
        "O **5W2H** é uma ferramenta para elaboração de planos de ação que, por sua simplicidade, objetividade e orientação completa, é amplamente utilizada em gestão de projetos, análise de negócios, planejamento de negócios, planejamento estratégico e outras disciplinas de gestão. Sua estrutura obriga os usuários a considerar todos os aspectos da situação, e o guia básico de execução inclui um formulário que responde às seguintes perguntas: O quê, Quem, Onde, Quando, Por que, Como, Quanto (O quê, Quem, Onde, Quando, Por que, Como, Quanto). As respostas a essas perguntas permitem que você tenha uma visão holística do problema ou tarefa para começar a resolvê-lo\n",
        "\n",
        "\n",
        "**DataSets**\n",
        "\n",
        "**Conjuntos de dados do Coronavírus**\n",
        "\n",
        "Planilhas e conjuntos de dados:\n",
        "\n",
        "1.   https://www.worldometers.info/coronavirus/ (Números CV)\n",
        "\n",
        "2.   https://github.com/CSSEGISandData/COVID-19 O Github da Universidade John Hopkins confirmou os números de casos\n",
        "\n",
        "3.   https://www.kaggle.com/sudalairajkumar/novel-corona-virus-2019-dataset Conjunto de dados do Kaggle\n",
        "\n",
        "4.   https://github.com/nextstrain/ncov Repositório de dados de tensão\n",
        "\n",
        "5. https://covid2019.app/ (Planilhas Google)\n",
        "\n",
        "**Técnicas de Python**\n",
        "\n",
        "**Métodos básicos de string**\n",
        "\n",
        "Vejamos os principais métodos de string que podemos aplicar em aplicativos:\n",
        "\n",
        "isalpha() : retorna True se a string consistir apenas em caracteres alfabéticos\n",
        "\n",
        "islower() : retorna True se a string consistir apenas em caracteres minúsculos\n",
        "\n",
        "isupper() : retorna True se todos os caracteres da string forem maiúsculos\n",
        "\n",
        "isdigit() : retorna True se todos os caracteres em uma string forem dígitos\n",
        "\n",
        "isnumeric() : retorna True se a string for um número\n",
        "\n",
        "startswith(str) : retorna True se a string começar com a substring str\n",
        "\n",
        "endswith(str) : retorna True se a string terminar com a substring str\n",
        "\n",
        "lower() : converte string para minúscula\n",
        "\n",
        "upper() : converte string para maiúscula\n",
        "\n",
        "title() : os caracteres iniciais de todas as palavras na string são convertidos em maiúsculas\n",
        "\n",
        "capitalize() : capitaliza a primeira letra apenas da primeira palavra da string\n",
        "\n",
        "lstrip() : remove os espaços iniciais de uma string\n",
        "\n",
        "rstrip() : remove espaços à direita de uma string\n",
        "\n",
        "strip() : remove espaços iniciais e finais de uma string\n",
        "\n",
        "ljust(width) : se o comprimento da string for menor que o parâmetro largura, espaços são adicionados à direita da string para preencher o valor da largura, e a string em si é justificada à esquerda\n",
        "\n",
        "rjust(width) : se o comprimento da string for menor que o parâmetro de largura, espaços são adicionados à esquerda da string para preencher o valor da largura, e a própria string é justificada à direita\n",
        "\n",
        "center(width) : se o comprimento da string for menor que o parâmetro de largura, os espaços são adicionados uniformemente à esquerda e à direita da string para preencher o valor da largura, e a própria string é centralizada\n",
        "\n",
        "find(str[, start [, end]) : retorna o índice de uma substring em uma string. Se a substring não for encontrada, o número -1 será retornado.\n",
        "\n",
        "replace(old, new[, num]) : substitui uma substring em uma string por outra\n",
        "\n",
        "split([delimeter[, num]]) : divide uma string em substrings dependendo do separador\n",
        "\n",
        "join(strs) : une strings em uma string inserindo um delimitador específico entre elas\n",
        "\n",
        "Por exemplo, se esperamos que um número seja inserido pelo teclado, antes de converter a string inserida em um número, podemos verificar se o número foi realmente inserido usando o método isnumeric() e, em caso afirmativo, realizar a operação de conversão:\n",
        "\n",
        "\n",
        "\n",
        "\n",
        "\n",
        "\n",
        "\n",
        "\n",
        "\n",
        "\n",
        "\n",
        "\n",
        "\n",
        "\n",
        "\n",
        "\n",
        "\n",
        "\n",
        "\n"
      ],
      "metadata": {
        "id": "uG36R4b63BKe"
      }
    },
    {
      "cell_type": "code",
      "source": [
        "string = input(\"Digite o número: \")\n",
        "if string.isnumeric():\n",
        "    number = int(string)\n",
        "    print(number)"
      ],
      "metadata": {
        "colab": {
          "base_uri": "https://localhost:8080/"
        },
        "id": "a8-Cc00rBLmJ",
        "outputId": "e8b38563-8bee-481b-803a-75239277b58d"
      },
      "execution_count": 1,
      "outputs": [
        {
          "output_type": "stream",
          "name": "stdout",
          "text": [
            "Digite o número: 22\n",
            "22\n"
          ]
        }
      ]
    },
    {
      "cell_type": "markdown",
      "source": [
        "Removendo espaços no início e no final de uma string:"
      ],
      "metadata": {
        "id": "MlqCdwTQBvXv"
      }
    },
    {
      "cell_type": "code",
      "source": [
        "string = \"   hello  world!  \"\n",
        "string = string.strip()\n",
        "print(string)           # hello  world!"
      ],
      "metadata": {
        "colab": {
          "base_uri": "https://localhost:8080/"
        },
        "id": "H0a2DS_zBwnJ",
        "outputId": "375aec23-b234-4b40-f608-f9f788d8b46d"
      },
      "execution_count": 3,
      "outputs": [
        {
          "output_type": "stream",
          "name": "stdout",
          "text": [
            "hello  world!\n"
          ]
        }
      ]
    },
    {
      "cell_type": "markdown",
      "source": [
        "**Pesquisar em uma string**\n",
        "\n",
        "Para encontrar uma substring em uma string, o Python usa o método find() , que retorna o índice da primeira ocorrência de uma substring em uma string e tem três formas:\n",
        "\n",
        "find(str): a substring str é pesquisada do início da string até o final\n",
        "\n",
        "find(str, start): o parâmetro start especifica o índice inicial a partir do qual pesquisar\n",
        "\n",
        "find(str, start, end): o parâmetro end especifica o índice final para o qual a pesquisa irá\n",
        "\n",
        "Se a substring não for encontrada, o método retornará -1:"
      ],
      "metadata": {
        "id": "6Iwv9MmMCWyL"
      }
    },
    {
      "cell_type": "code",
      "source": [
        "welcome = \"Hello world\"\n",
        "index = welcome.find(\"wor\")\n",
        "print(index)       # 6\n",
        " \n",
        "# pesquisar no índice 10\n",
        "index = welcome.find(\"wor\",10)\n",
        "print(index)       # 21\n",
        " \n",
        "# pesquisar do 10º ao 15º índice\n",
        "index = welcome.find(\"wor\",10,15)\n",
        "print(index)       # -1"
      ],
      "metadata": {
        "colab": {
          "base_uri": "https://localhost:8080/"
        },
        "id": "vahjrf_IDAKC",
        "outputId": "5908f53c-2783-4b6d-dcc1-3941c474d326"
      },
      "execution_count": 4,
      "outputs": [
        {
          "output_type": "stream",
          "name": "stdout",
          "text": [
            "6\n",
            "-1\n",
            "-1\n"
          ]
        }
      ]
    },
    {
      "cell_type": "markdown",
      "source": [
        "**Substituindo em uma string**\n",
        "\n",
        "Para substituir uma substring em uma string por outra, use o método replace() :\n",
        "\n",
        "replace(old, new): substitui a substring antiga por nova\n",
        "\n",
        "replace(old, new, num): o parâmetro num especifica quantas ocorrências da substring antiga devem ser substituídas por novas"
      ],
      "metadata": {
        "id": "JE3rttaKDU7t"
      }
    },
    {
      "cell_type": "code",
      "source": [
        "text = \"Era um enorme carvalho de duas circunferências, com galhos quebrados e casca quebrada.\"\n",
        "# separação por espaços\n",
        "splitted_text = text.split()\n",
        "print(splitted_text)\n",
        "print(splitted_text[6])     \n",
        " \n",
        "# divisão por vírgula\n",
        "splitted_text = text.split(\",\")\n",
        "print(splitted_text)\n",
        "print(splitted_text[1])     # em carvalho de duas circunferências\n",
        " \n",
        "# dividido nos primeiros cinco espaços\n",
        "splitted_text = text.split(\" \", 5)\n",
        "print(splitted_text)        \n",
        "print(splitted_text[5])     # carvalho de cilha, com galhos quebrados e com casca quebrada"
      ],
      "metadata": {
        "colab": {
          "base_uri": "https://localhost:8080/"
        },
        "id": "ASiISSD8ELfM",
        "outputId": "83fbb278-32b0-412a-f736-3a883193f270"
      },
      "execution_count": 8,
      "outputs": [
        {
          "output_type": "stream",
          "name": "stdout",
          "text": [
            "['Era', 'um', 'enorme', 'carvalho', 'de', 'duas', 'circunferências,', 'com', 'galhos', 'quebrados', 'e', 'casca', 'quebrada.']\n",
            "circunferências,\n",
            "['Era um enorme carvalho de duas circunferências', ' com galhos quebrados e casca quebrada.']\n",
            " com galhos quebrados e casca quebrada.\n",
            "['Era', 'um', 'enorme', 'carvalho', 'de', 'duas circunferências, com galhos quebrados e casca quebrada.']\n",
            "duas circunferências, com galhos quebrados e casca quebrada.\n"
          ]
        }
      ]
    },
    {
      "cell_type": "markdown",
      "source": [
        "**Unindo strings**\n",
        "\n",
        "Ao examinar as operações mais simples em strings, mostramos como concatenar strings usando a operação de adição. Outra possibilidade de juntar strings é o método join() : ele concatena uma lista de strings. Além disso, a linha atual, na qual esse método é chamado, é usada como separador:"
      ],
      "metadata": {
        "id": "rl9wfiQgE96A"
      }
    },
    {
      "cell_type": "code",
      "source": [
        "words = [\"Deixe\", \"me\", \"falar\", \"do\", \"meu\", \"coracao\", \"em\", \"Portugues\"]\n",
        " \n",
        "# separador - espaço\n",
        "sentence = \" \".join(words)\n",
        "print(sentence)  # Deixe me falar do meu coração em Portugues\n",
        " \n",
        "# separador - barra vertical\n",
        "sentence = \" | \".join(words)\n",
        "print(sentence)  # Deixe | me | falar | do | meu | coracao | em | Portugues"
      ],
      "metadata": {
        "colab": {
          "base_uri": "https://localhost:8080/"
        },
        "id": "KXrc2rQ4FJFN",
        "outputId": "468892fa-0fc5-4f06-fa8a-ce43da9ed466"
      },
      "execution_count": 11,
      "outputs": [
        {
          "output_type": "stream",
          "name": "stdout",
          "text": [
            "Deixe me falar do meu coracao em Portugues\n",
            "Deixe | me | falar | do | meu | coracao | em | Portugues\n"
          ]
        }
      ]
    },
    {
      "cell_type": "markdown",
      "source": [
        "**ARTIGOS QUE PODEM LHE INTERESSAR SOBRE O ASSUNTO:**\n",
        "\n",
        "\n",
        "\n",
        "*   https://python.org.br/cientifico/\n",
        "\n",
        "*   https://www.iugu.com/iugu4devs/blog/analise-de-dados-python\n",
        "\n",
        "*   https://www.cienciaedados.com/r-ou-python-para-analise-de-dados/\n",
        "\n",
        "\n",
        "*   https://www.zup.com.br/blog/locust-teste-de-carga\n",
        "\n"
      ],
      "metadata": {
        "id": "WCyV10JAGdTj"
      }
    },
    {
      "cell_type": "markdown",
      "source": [
        "**ETAPA 2: Tecnologias Atuais**\n",
        "\n",
        "As preocupações com o desemprego tecnológico em massa são exageradas, mostram os estudos: uma consequência mais provável da quarta revolução industrial será a polarização do mercado de trabalho e o surgimento de novas formas de emprego.\n",
        "\n",
        "As consequências do progresso tecnológico para o mercado de trabalho é um tema de grande e crescente interesse tanto no ambiente político e midiático, quanto na comunidade de especialistas e pesquisadores. Inclusive por temores de que em um futuro próximo as novas tecnologias levem a uma diminuição significativa do número de empregos e desemprego em massa.\n",
        "\n",
        "Os mercados de trabalho modernos estão, de fato, passando por transformações significativas causadas pelas novas tecnologias. Apesar disso, a maioria dos pesquisadores concorda que as expectativas de desemprego tecnológico em massa como resultado da quarta revolução industrial parecem infundadas ou pelo menos exageradas, mostra uma análise de estudos sobre o impacto do progresso tecnológico no mercado de trabalho e políticas públicas nesta área em países desenvolvidos. países (com a íntegra os resultados da análise podem ser encontrados em nosso artigo de revisão publicado na revista Economic Policy).\n",
        "\n",
        "**As revoluções industriais e a ameaça do desemprego em massa**\n",
        "\n",
        "O mundo já experimentou três revoluções industriais, cada uma das quais gerou sua própria onda de temores de desemprego em massa. Seus resultados estavam longe de medos semelhantes. A diminuição do número de pessoas ocupadas na agricultura em decorrência das inovações tecnológicas foi compensada pelo crescimento da indústria e dos serviços. Na segunda metade do século XX. em muitos países desenvolvidos houve um envolvimento maciço das mulheres na força de trabalho. A população cresceu rapidamente, e com ela o número de empregos. A informatização em massa também não levou a um aumento no número de desempregados. Nas primeiras décadas do século XXI. na maioria dos países desenvolvidos , há um aumento do nível de emprego: nos países membros da OCDE de 65,4% em 2000 para 68,5% em 2018\n",
        "\n",
        "Embora as previsões feitas durante as revoluções tecnológicas anteriores tenham se mostrado insustentáveis, isso não impediu o surgimento de novas ameaças a um \"futuro sem trabalho\". A maioria deles está relacionada não tanto com a disseminação de tecnologias existentes, mas com a introdução de novas.\n",
        "\n",
        "O conceito de uma nova quarta revolução foi formado com base no relatório Indústria 4.0 apresentado pelo governo alemão em 2011 e dedicado ao uso mais eficiente das novas tecnologias da informação na indústria. O Fórum Econômico Mundial 2015 tornou-se um popularizador ativo do termo \"quarta revolução industrial\". Segundo os especialistas do fórum econômico, a quarta revolução industrial pode ser descritacomo o surgimento de \"sistemas ciberfísicos\", incluindo possibilidades completamente novas para pessoas e máquinas. Embora essas oportunidades dependam das tecnologias e infraestrutura da terceira revolução industrial, a quarta revolução industrial representa maneiras inteiramente novas pelas quais a tecnologia está sendo introduzida na sociedade e até mesmo em nossos corpos. Exemplos incluem edição de genoma, novas formas de inteligência de máquina, novos materiais e abordagens de governança específicas que dependem de métodos criptográficos, como blockchain.\n",
        "\n",
        "Vale notar que a principal diferença entre a atual rodada de discussões sobre as consequências do progresso tecnológico e as anteriores é a ausência dos resultados de uma nova revolução. Em 2020, as tecnologias mencionadas acima ainda serão muito caras e pouco utilizadas. No entanto, de acordo com Klaus Schwab, chefe do Fórum Econômico Mundial, desta vez será diferente : a tecnologia se tornará mais eficiente e barata, de modo que os humanos na maioria dos empregos existentes não poderão competir com os robôs. Como principais motivos, Schwab cita o seguinte: \"velocidade (a taxa de mudança é agora mais rápida do que nunca), amplitude e profundidade (muitas mudanças radicais estão acontecendo ao mesmo tempo) e a transformação completa de sistemas inteiros\".\n",
        "\n",
        "As oportunidades de automação trazidas pelas novas tecnologias foram as primeiras a serem analisadas pelos economistas de Oxford Carl Frey e Michael Osborne em 2013. Eles sugeriram que, no futuro, graças às novas tecnologias, os robôs também poderão realizar tipos não rotineiros com sucesso de tarefas. Nesse caso, várias profissões estarão em risco de extinção. De acordo com os cálculos dos autores, 47% de todos os empregados nos Estados Unidos trabalham em profissões com alto risco de automação nos próximos 10 a 20 anos. Não é de surpreender que esses resultados tenham sido replicados e tenham causado uma resposta significativa.\n",
        "\n",
        "No entanto, a metodologia para medir esses riscos foi posteriormente sujeita a sérias críticas. A principal observação foi que eles avaliam profissões inteiras, embora muitas vezes seja possível automatizar apenas algumas tarefas realizadas por especialistas dentro de uma profissão. Estudos subsequentes, usando uma metodologia semelhante, mas levando em conta essas críticas, mostraram riscos significativamente menores: apenas 9% dos empregos nos EUA são totalmente substituíveis, e quase o mesmo nos países da OCDE. De acordo com um estudo da McKinsey sobre a composição do emprego nas 56 maiores economias do mundo, essa participação é geralmente ainda menor - menos de 5%.\n",
        "\n",
        "Ideias sobre a incrível velocidade das mudanças tecnológicas atuais também estão sendo questionadas por especialistas. Um estudo realizado por especialistas da Information Technology and Innovation Foundation (ITIF) mostra que, nos Estados Unidos, o volume total de empregos que aparecem em novos setores e desaparecem nos tradicionais em 2000-2015. foi significativamente menor do que nas décadas de 1950-2000 e anteriores.\n",
        "\n",
        "**ARTIGOS QUE PODEM LHE INTERESSAR SOBRE O ASSUNTO:**\n",
        "\n",
        "\n",
        "\n",
        "* https://bdm.unb.br/handle/10483/29552\n",
        "\n",
        "* https://blog.solides.com.br/tecnologia-nas-empresas-ajuda-crescimento/\n",
        "\n",
        "* https://mindminers.com/blog/tecnologia-e-comportamento/\n",
        "\n",
        "* https://www.coladaweb.com/geografia/tecnologia\n",
        "\n",
        "\n",
        "**ETAPA 3: Problemas Emergentes**\n",
        "\n",
        "**Inteligência artificial de verdade**\n",
        "\n",
        "As conquistas de Siri e Cortana são muito interessantes, mas precisamos de uma IA real que possa realmente pensar como um humano e aprender por conta própria. Uma máquina que pode funcionar como um ser senciente mudará completamente todas as indústrias. A Microsoft Research está atualmente experimentando a IA, desenvolvendo uma conexão mais sutil entre humanos e máquinas, e estamos esperando pacientemente que os robôs se tornem nossos melhores amigos. O Google gasta milhões recrutando os melhores cientistas da área, mas você é quem pode dar inteligência artificial ao mundo.\n",
        "\n",
        "**A próxima geração de conectividade sem fio ou com fio**\n",
        "\n",
        "A velocidade da Internet na Coréia faz todos os principais países do mundo corarem. O Google está desenvolvendo seus projetos Google Fiber e Project Loon para desenvolver infraestrutura de Internet, mas todos esses são programas experimentais e, antes que se tornem tão difundidos quanto os provedores de serviços de Internet, você já terá tempo para fornecer Internet sem fio de alta velocidade e baixo custo para o mundo inteiro, cada ponto do globo. É assim?\n",
        "\n",
        "**Energia sem fios**\n",
        "\n",
        "Nossos telefones celulares permanecem imóveis graças a uma parede que os prende firmemente com um fio elétrico. Claro, você pode levar um suprimento de baterias adicionais com você, ou estojos, mas isso está longe de ser uma panacéia. Como você pode não chamar de panacéia e carregamento sem fio sensacionalista da Nokia, que mesmo de parede a parede não chegará. É você quem pode impregnar tudo onipresente com uma força invisível que carregará constantemente o equipamento. Não sei, abra os chakras ou algo assim. Pense em algo por favor. A startup Ubeam trabalha na tecnologia de carregamento sem fio há vários anos, mas ainda não trouxe um produto de mercado.\n",
        "\n",
        "**Independência energética**\n",
        "\n",
        "Vamos imaginar por um momento que você nunca mais terá que pagar pela eletricidade. Uma combinação de energia solar e eólica pode fornecer energia à sua casa e até mais, mas a implementação técnica de uma usina elétrica doméstica é muito cara. Uma startup que resolva esses problemas ganhará uma montanha de dinheiro.\n",
        "\n",
        "**Internet de banda larga confiável para áreas rurais**\n",
        "\n",
        "O pensamento da vida sem a internet aterroriza a maioria de nós. Mas fora dos confortos da vida na cidade, há pessoas que estão constantemente offline.\n",
        "\n",
        "Segundo o Google, dois terços da população mundial não tem internet. É por isso que a empresa está trabalhando no projeto Loon para atender pessoas em áreas rurais e remotas, mas o programa ainda está em fase experimental.\n",
        "\n",
        "**interface cérebro-computador**\n",
        "\n",
        "Queremos baixar nossos pensamentos e memórias para um computador, armazená-los e pesquisá-los, e certamente não através de uma porta USB. Embora isso também funcione.\n",
        "\n",
        "Imagine se, em vez de tirar palavras desajeitadas da boca e expressá-las em uma escrita cheia de erros, você pudesse compartilhar livremente seu rico mundo de imaginação e pensamento.\n",
        "\n",
        "**Senhas indecifráveis**\n",
        "\n",
        "Outro dia, John, o criador do antivírus McAfee, apresentou um sistema de mensagens que ele disse que não conseguiria decifrar sozinho. Graças ao Heartbleed e outros grandes vazamentos, senhas complexas e segurança ganharam mais urgência. Adicionar um ponto de exclamação à sua senha antiga não a melhora nem um pouco.\n",
        "\n",
        "Talvez o futuro da proteção de dados pessoais esteja nas impressões digitais ou na digitalização da retina. Em qualquer caso, você deve fazê-lo.\n",
        "\n",
        "**Substituição de carteira**\n",
        "\n",
        "Apesar do fato de que todo amante de tecnologia que se preze ter um smartphone, a maneira de pagar com eles não é algo que eles não inventaram - não criou raízes. Aquele que nos der a oportunidade de esquecer a carteira em casa e não se preocupar com isso será regado de ouro, como Scrooge.\n",
        "\n",
        "Neste momento o mercado está muito fragmentado, graças a Square, Isis, Google Wallet e outros nomes mais ou menos conhecidos. Talvez você, como Steve Jobs, crie algo universal e mude completamente a imagem deste mundo. Deixe os fabricantes de carteiras desempregados.\n",
        "\n",
        "**ARTIGOS QUE PODEM LHE INTERESSAR SOBRE O ASSUNTO:**\n",
        "\n",
        "\n",
        "\n",
        "* https://www.edgardigital.ufba.br/?p=16015\n",
        "\n",
        "* https://www.meupositivo.com.br/panoramapositivo/tecnologia-para-a-sociedade-atual/\n",
        "\n",
        "* https://www.criartepublicidade.com/4-problemas-da-falta-de-tecnologia-nas-empresas/\n",
        "\n",
        "* https://www.iebschool.com/pt-br/blog/software-de-gestao/tecnologia/avancos-tecnologicos-vantagens-e-desvantagens/\n",
        "\n",
        "\n",
        "\n",
        "\n",
        "\n",
        "\n",
        "\n",
        "\n",
        "\n",
        "\n",
        "\n",
        "\n",
        "\n",
        "\n",
        "\n",
        "\n",
        "\n",
        "\n",
        "\n",
        "\n",
        "\n",
        "\n",
        "\n",
        "\n",
        "\n"
      ],
      "metadata": {
        "id": "AiTOubmlHdYw"
      }
    },
    {
      "cell_type": "markdown",
      "source": [
        "**ETAPA 4: Novos Recursos**\n",
        "\n",
        "**Novas possibilidades tecnológicas para a microeletrônica moderna**\n",
        "\n",
        "A implantação iônica é a irradiação da superfície dos materiais com feixes de íons acelerados, o que lhes permite formar as propriedades desejadas. A dopagem de semicondutores por implantação iônica (introdução de impurezas no material) é um dos principais processos tecnológicos em eletrônica. Ao implantar semicondutores cristalinos, eles geralmente são orientados para que a maioria dos íons não caia nos chamados \"canais\" que existem nos cristais entre as cadeias de átomos. Isso se deve ao fato de que, quando os íons entram nos canais, é difícil obter uma certa profundidade de penetração dos átomos de impureza. Outra característica da tecnologia de implante tradicional é o recozimento. Quando aquecidos, os átomos da impureza introduzida ocupam certos lugares na rede cristalina, onde são ativados - eles adquirem a capacidade de capturar ou ceder um elétron.\n",
        "Cientistas da UNN implantaram íons de gálio em silício de cristal único sem impedir que os íons se movam pelos canais. E então, sem recozimento, foi utilizado o método de espectroscopia de impedância. Permite determinar os níveis de energia dos átomos de impureza em semicondutores e, portanto, o grau de sua atividade elétrica. Descobriu-se que os átomos de gálio exibem atividade elétrica mesmo sem recozimento. O estudo é publicado na revista internacional Materials Letters, que destaca os desenvolvimentos de ponta no campo da ciência dos materiais.\n",
        "\n",
        "**Tecnologias em medicina**\n",
        "\n",
        "Recentemente uma nova tecnologia médica surgiu e passou a ser amplamente discutida. Conselhos virtuais de médicos, sistemas de segunda opinião, gerenciamento online de pacientes, resultados de análises e receitas de e-mail passaram a ser oficialmente reconhecidos. Em essência, a lei de telemedicina recentemente adotada consolidou as práticas de saúde à distância impulsionadas por tecnologias modernas. Agora, a implementação desse projeto envolve um esforço determinado na construção de canais de comunicação confiáveis, na identificação de médicos e pacientes e na proteção confiável de dados pessoais. Com os dispositivos portáteis de hoje, você pode enviar vários dados de saúde ao seu médico. A telemedicina, assim como outras tecnologias médicas modernas, fornece outro poderoso estímulo para o desenvolvimento de tecnologias modernas nesta indústria.\n",
        "\n",
        "O salto tecnológico também impacta no retorno do investimento empresarial. As novas tecnologias de saúde podem muitas vezes reduzir drasticamente o custo principal de alguns serviços. Um desses exemplos é a consulta online com médicos: enquanto os custos iniciais são muito baixos, o valor agregado do serviço é aumentado em muitas vezes.\n",
        "\n",
        "Todas as tecnologias modernas relacionadas com a transformação digital dos cuidados de saúde implicam a máxima automatização dos fluxos de trabalho de rotina para poupar o precioso tempo dos médicos. Como resultado, o fluxo de unidades de internação nas clínicas aumenta.\n",
        "\n",
        "As clínicas privadas foram as primeiras a aprender a recolher os lucros a curto prazo e a acompanhar as inovações tecnológicas na área da saúde.\n",
        "\n",
        "**Em busca de soluções ideais**\n",
        "\n",
        "No entanto, se você deseja aplicar novas tecnologias na medicina, precisa avaliar suas capacidades em todos os detalhes. É por isso que todos esses projetos devem ser iniciados com uma auditoria de infraestrutura. Ele o ajudará a configurar uma solução ideal que atenda aos requisitos exclusivos dos processos de produção do cliente. Na próxima etapa, os engenheiros de implementação e os gerentes de projeto iniciam seu trabalho. A equipe do projeto pode incluir 3 ou 30 membros, dependendo da escala do projeto. Este é um aspecto importante que impacta o custo do projeto e o sucesso da implementação. Vale lembrar que preparar a infraestrutura física necessária para a implantação de novas tecnologias de saúde também demanda atenção especial e impacta no custo final do projeto.\n",
        "\n",
        "**Desenvolvimentos estrangeiros recentes**\n",
        "\n",
        "Gostaria de listar alguns eventos marcantes que exemplificam o desenvolvimento de novas tecnologias na medicina. Eu acho que eles podem iniciar um novo avanço:\n",
        "\n",
        "\n",
        "\n",
        "*   No início de 2018, foi publicado um relatório intitulado “Inteligência Artificial no Sistema Nacional de Saúde do Reino Unido”. Este estudo chama a atenção para as aplicações da IA ​​na área da saúde. A IA na medicina é considerada um contribuinte para o desenvolvimento do sistema nacional de saúde. De acordo com o relatório, ele pode ser usado para aumentar a eficiência geral dos cuidados de saúde. A IA também pode impulsionar a redução de custos. Esta tecnologia tem uma ampla gama de aplicações. Entre outras coisas, a IA na medicina pode ser usada como consultora na tomada de decisões, ajudando os médicos a aumentar a eficácia dos diagnósticos ou como um assistente virtual inteligente que ajuda no planejamento mais preciso.\n",
        "\n",
        "* A Food and Drug Administration dos EUA concedeu uma autorização de comercialização nos EUA para o assistente de tomada de decisão baseado em rede neural para aplicativos de saúde. O desenvolvedor do sistema afirmou que o sistema pode detectar os sinais de acidente vascular cerebral em estágios iniciais com base nos dados de ressonância magnética. Essas novas tecnologias médicas não são apenas capazes de processar as imagens de RM, mas também estão integradas ao sistema de notificação dos centros neurovasculares. Seus especialistas são notificados imediatamente após o exame de ressonância magnética que detecta os primeiros sinais de acidente vascular cerebral.\n",
        "\n",
        "**ARTIGOS QUE PODEM LHE INTERESSAR SOBRE O ASSUNTO:**\n",
        "\n",
        "*   https://hilab.com.br/blog/conheca-as-principais-tecnologias-para-saude-publica/\n",
        "\n",
        "*   https://www.moblee.com.br/blog/novas-tecnologias-para-eventos/\n",
        "\n",
        "*   https://centraldofranqueado.com.br/gestao-de-franquias/planejamento-estrategico/\n",
        "\n",
        "*  https://repositorio.ifsc.edu.br/handle/123456789/816\n",
        "\n",
        "\n",
        "\n",
        "\n",
        "\n",
        "\n",
        "\n",
        "\n",
        "\n",
        "\n",
        "\n",
        "\n",
        "\n"
      ],
      "metadata": {
        "id": "HT_obSg58chO"
      }
    },
    {
      "cell_type": "code",
      "source": [
        ""
      ],
      "metadata": {
        "id": "2HMZMzlqAI7T"
      },
      "execution_count": null,
      "outputs": []
    }
  ]
}